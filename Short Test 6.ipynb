{
 "cells": [
  {
   "cell_type": "markdown",
   "metadata": {},
   "source": [
    "# Digital Speech Processing\n",
    "### Prof. Dr. Rodrigo Guido\n",
    "\n",
    "### Student: Álvaro Leandro Cavalcante Carneiro"
   ]
  },
  {
   "cell_type": "markdown",
   "metadata": {},
   "source": [
    "# Short Test Challenge\n",
    "Creating and normalizing a band-stop filter."
   ]
  },
  {
   "cell_type": "markdown",
   "metadata": {},
   "source": [
    "## Importing the necessary libraries"
   ]
  },
  {
   "cell_type": "code",
   "execution_count": 1,
   "metadata": {},
   "outputs": [],
   "source": [
    "import math\n",
    "import numpy as np"
   ]
  },
  {
   "cell_type": "markdown",
   "metadata": {},
   "source": [
    "## Defining filter parameters\n",
    "First of all, it's important to define the necessary parameters, like the filter order, samples per second and cutoff frequency. In this case, we have frequency A and B to represent the cutpoints of our band-stop filter."
   ]
  },
  {
   "cell_type": "code",
   "execution_count": 2,
   "metadata": {},
   "outputs": [],
   "source": [
    "filter_order = 4\n",
    "samples_second = 10000\n",
    "cutoff_freq_a = 2500\n",
    "cutoff_freq_b = 3500"
   ]
  },
  {
   "cell_type": "markdown",
   "metadata": {},
   "source": [
    "## Function to get low pass filter\n",
    "The function above gets the low pass filter. It also accepts a parameter to determine if the filter is a low pass to be transformed into a high pass, to change the division coefficient. If there's a division by 0, the value of the coefficient is replace by 1."
   ]
  },
  {
   "cell_type": "code",
   "execution_count": 3,
   "metadata": {},
   "outputs": [],
   "source": [
    "def get_low_pass_filter(filter_order, samples_second, cutoff_frequency, high_pass=False):\n",
    "    frequency = samples_second / 2\n",
    "    divisor = frequency / 1000\n",
    "    dividend = cutoff_frequency / 1000 \n",
    "    \n",
    "    if high_pass:\n",
    "        dividend = divisor - dividend\n",
    "\n",
    "    final_filter = []\n",
    "\n",
    "    for n in range(filter_order + 1):\n",
    "        first_part = math.sin( ((dividend * math.pi) / divisor) * (n - (filter_order/2)) )\n",
    "        second_part = (math.pi * (n - (filter_order/2)))\n",
    "        if second_part == 0:\n",
    "            value = 1\n",
    "        else:\n",
    "            value = first_part / second_part\n",
    "        final_filter.append(value)\n",
    "    \n",
    "    return np.array(final_filter)"
   ]
  },
  {
   "cell_type": "markdown",
   "metadata": {},
   "source": [
    "## Normalizing results\n",
    "The function above normalize the results to get a gain of 0 dB."
   ]
  },
  {
   "cell_type": "code",
   "execution_count": 4,
   "metadata": {},
   "outputs": [],
   "source": [
    "def normalized_coef(coef):\n",
    "    print('Sum befone normalization', sum(coef))\n",
    "    normalized = [x/sum(coef) for x in coef]\n",
    "    print('Sum after normalization', sum(normalized))\n",
    "    return normalized"
   ]
  },
  {
   "cell_type": "markdown",
   "metadata": {},
   "source": [
    "Let's get the normalized version of low pass filter, considering the first cutoff frequency."
   ]
  },
  {
   "cell_type": "code",
   "execution_count": 16,
   "metadata": {},
   "outputs": [
    {
     "name": "stdout",
     "output_type": "stream",
     "text": [
      "Sum befone normalization 1.6366197723675815\n",
      "Sum after normalization 1.0\n"
     ]
    },
    {
     "data": {
      "text/plain": [
       "[1.1909216478792039e-17,\n",
       " 0.19449226482417134,\n",
       " 0.6110154703516573,\n",
       " 0.19449226482417134,\n",
       " 1.1909216478792039e-17]"
      ]
     },
     "execution_count": 16,
     "metadata": {},
     "output_type": "execute_result"
    }
   ],
   "source": [
    "low_pass_filter = normalized_coef(\n",
    "    get_low_pass_filter(filter_order, samples_second, cutoff_freq_a, False))\n",
    "low_pass_filter"
   ]
  },
  {
   "cell_type": "markdown",
   "metadata": {},
   "source": [
    "After that, we call the same function, but this time passing the second cutoff frequency, and with the \"high_pass\" parameter set to True, to change the equation. Again, we can normalize the outputs to get 0 dB in sum of coefficients"
   ]
  },
  {
   "cell_type": "code",
   "execution_count": 17,
   "metadata": {
    "scrolled": true
   },
   "outputs": [
    {
     "name": "stdout",
     "output_type": "stream",
     "text": [
      "Sum befone normalization 1.8177669062567468\n",
      "Sum after normalization 1.0\n"
     ]
    },
    {
     "data": {
      "text/plain": [
       "[0.08326994248114676,\n",
       " 0.14166728776603074,\n",
       " 0.550125539505645,\n",
       " 0.14166728776603074,\n",
       " 0.08326994248114676]"
      ]
     },
     "execution_count": 17,
     "metadata": {},
     "output_type": "execute_result"
    }
   ],
   "source": [
    "low_pass_b = normalized_coef(\n",
    "    get_low_pass_filter(filter_order, samples_second, cutoff_freq_b, True))\n",
    "low_pass_b"
   ]
  },
  {
   "cell_type": "markdown",
   "metadata": {},
   "source": [
    "We'll use the same function created in the last short test to reverse the signal of our low pass filter, to achieve the high pass version! "
   ]
  },
  {
   "cell_type": "code",
   "execution_count": 7,
   "metadata": {},
   "outputs": [],
   "source": [
    "def get_high_pass_filter(filter_value):      \n",
    "    reversed_filter = np.array(filter_value)[::-1]\n",
    "    inverse = []\n",
    "    for i, value in enumerate(reversed_filter):\n",
    "        if i % 2 != 0:\n",
    "            inverse.append(-value)\n",
    "        else:\n",
    "            inverse.append(value)\n",
    "       \n",
    "    return np.array(inverse)"
   ]
  },
  {
   "cell_type": "code",
   "execution_count": 18,
   "metadata": {},
   "outputs": [
    {
     "name": "stdout",
     "output_type": "stream",
     "text": [
      "Sum befone normalization 0.4333308489358771\n",
      "Sum after normalization 0.9999999999999999\n"
     ]
    },
    {
     "data": {
      "text/plain": [
       "[0.19216250743659558,\n",
       " -0.3269263845717899,\n",
       " 1.2695277542703884,\n",
       " -0.3269263845717899,\n",
       " 0.19216250743659558]"
      ]
     },
     "execution_count": 18,
     "metadata": {},
     "output_type": "execute_result"
    }
   ],
   "source": [
    "high_pass = normalized_coef(get_high_pass_filter(low_pass_b))\n",
    "high_pass"
   ]
  },
  {
   "cell_type": "markdown",
   "metadata": {},
   "source": [
    "## Obtaining the band-stop filter\n",
    "To get the band-stop filter, we just need to sum the coefficients of the low and high pass filters calculated previously. "
   ]
  },
  {
   "cell_type": "code",
   "execution_count": 23,
   "metadata": {},
   "outputs": [
    {
     "name": "stdout",
     "output_type": "stream",
     "text": [
      "Sum befone normalization 1.9999999999999996\n",
      "Sum after normalization 1.0000000000000002\n"
     ]
    },
    {
     "data": {
      "text/plain": [
       "[0.09608125371829782,\n",
       " -0.0662170598738093,\n",
       " 0.9402716123110231,\n",
       " -0.0662170598738093,\n",
       " 0.09608125371829782]"
      ]
     },
     "execution_count": 23,
     "metadata": {},
     "output_type": "execute_result"
    }
   ],
   "source": [
    "stop_band = normalized_coef(np.array(low_pass_filter) + np.array(high_pass))\n",
    "list(stop_band)"
   ]
  }
 ],
 "metadata": {
  "kernelspec": {
   "display_name": "Python 3",
   "language": "python",
   "name": "python3"
  },
  "language_info": {
   "codemirror_mode": {
    "name": "ipython",
    "version": 3
   },
   "file_extension": ".py",
   "mimetype": "text/x-python",
   "name": "python",
   "nbconvert_exporter": "python",
   "pygments_lexer": "ipython3",
   "version": "3.8.5"
  }
 },
 "nbformat": 4,
 "nbformat_minor": 4
}
