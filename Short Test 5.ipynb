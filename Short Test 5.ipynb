{
 "cells": [
  {
   "cell_type": "markdown",
   "metadata": {},
   "source": [
    "# Digital Speech Processing\n",
    "### Prof. Dr. Rodrigo Guido\n",
    "\n",
    "### Student: Álvaro Leandro Cavalcante Carneiro"
   ]
  },
  {
   "cell_type": "markdown",
   "metadata": {},
   "source": [
    "# Short Test Challenge\n",
    "Creating a band-stop filter."
   ]
  },
  {
   "cell_type": "markdown",
   "metadata": {},
   "source": [
    "## Importing the necessary libraries"
   ]
  },
  {
   "cell_type": "code",
   "execution_count": 42,
   "metadata": {},
   "outputs": [],
   "source": [
    "import math\n",
    "import numpy as np"
   ]
  },
  {
   "cell_type": "markdown",
   "metadata": {},
   "source": [
    "## Defining filter parameters\n",
    "First of all, it's important to define the necessary parameters, like the filter order, samples per second and cutoff frequency. In this case, we have frequency A and B to represent the cutpoints of our band-stop filter."
   ]
  },
  {
   "cell_type": "code",
   "execution_count": 43,
   "metadata": {},
   "outputs": [],
   "source": [
    "filter_order = 5\n",
    "samples_second = 10000\n",
    "cutoff_freq_a = 2500\n",
    "cutoff_freq_b = 3500"
   ]
  },
  {
   "cell_type": "markdown",
   "metadata": {},
   "source": [
    "## Function to get low pass filter\n",
    "The function above gets the low pass filter. It also accepts a parameter to determine if the filter is a low pass to be transformed into a high pass, to change the division coefficient."
   ]
  },
  {
   "cell_type": "code",
   "execution_count": 44,
   "metadata": {},
   "outputs": [],
   "source": [
    "def get_low_pass_filter(filter_order, samples_second, cutoff_frequency, high_pass=False):\n",
    "    frequency = samples_second / 2\n",
    "    divisor = frequency / 1000\n",
    "    dividend = cutoff_frequency / 1000 \n",
    "    \n",
    "    if high_pass:\n",
    "        dividend = divisor - dividend\n",
    "\n",
    "    final_filter = []\n",
    "\n",
    "    for n in range(filter_order + 1):\n",
    "        value = math.sin( ((dividend * math.pi) / divisor) * (n - (filter_order/2)) ) / (math.pi * (n - (filter_order/2)))\n",
    "        final_filter.append(value)\n",
    "    \n",
    "    return np.array(final_filter)"
   ]
  },
  {
   "cell_type": "markdown",
   "metadata": {},
   "source": [
    "Let's get the low pass filter, considering the first cutoff frequency."
   ]
  },
  {
   "cell_type": "code",
   "execution_count": 45,
   "metadata": {},
   "outputs": [
    {
     "data": {
      "text/plain": [
       "array([-0.09003163,  0.15005272,  0.45015816,  0.45015816,  0.15005272,\n",
       "       -0.09003163])"
      ]
     },
     "execution_count": 45,
     "metadata": {},
     "output_type": "execute_result"
    }
   ],
   "source": [
    "low_pass_filter = get_low_pass_filter(filter_order, samples_second, cutoff_freq_a, False)\n",
    "low_pass_filter"
   ]
  },
  {
   "cell_type": "markdown",
   "metadata": {},
   "source": [
    "After that, we call the same function, but this time passing the second cutoff frequency, and with the \"high_pass\" parameter set to True, to change the equation."
   ]
  },
  {
   "cell_type": "code",
   "execution_count": 46,
   "metadata": {
    "scrolled": true
   },
   "outputs": [
    {
     "data": {
      "text/plain": [
       "array([0.09003163, 0.20959398, 0.28901933, 0.28901933, 0.20959398,\n",
       "       0.09003163])"
      ]
     },
     "execution_count": 46,
     "metadata": {},
     "output_type": "execute_result"
    }
   ],
   "source": [
    "low_pass_b = get_low_pass_filter(filter_order, samples_second, cutoff_freq_b, True)\n",
    "low_pass_b"
   ]
  },
  {
   "cell_type": "markdown",
   "metadata": {},
   "source": [
    "We'll use the same function created in the last short test to reverse the signal of our low pass filter, to achieve the high pass version! "
   ]
  },
  {
   "cell_type": "code",
   "execution_count": 47,
   "metadata": {},
   "outputs": [],
   "source": [
    "def get_high_pass_filter(filter_value):\n",
    "    assert len(filter_value) % 2 == 0, \"The filter len must be even\"\n",
    "       \n",
    "    reversed_filter = np.array(filter_value)[::-1]\n",
    "    inverse = []\n",
    "    for i, value in enumerate(reversed_filter):\n",
    "        if i % 2 != 0:\n",
    "            inverse.append(-value)\n",
    "        else:\n",
    "            inverse.append(value)\n",
    "    \n",
    "    assert np.isclose(np.dot(filter_value, inverse), 0), \"Not orthogonal filters\"\n",
    "    \n",
    "    return np.array(inverse)"
   ]
  },
  {
   "cell_type": "code",
   "execution_count": 48,
   "metadata": {},
   "outputs": [
    {
     "data": {
      "text/plain": [
       "array([ 0.09003163, -0.20959398,  0.28901933, -0.28901933,  0.20959398,\n",
       "       -0.09003163])"
      ]
     },
     "execution_count": 48,
     "metadata": {},
     "output_type": "execute_result"
    }
   ],
   "source": [
    "high_pass = get_high_pass_filter(low_pass_b)\n",
    "high_pass"
   ]
  },
  {
   "cell_type": "markdown",
   "metadata": {},
   "source": [
    "## Obtaining the band-stop filter\n",
    "To get the band-stop filter, we just need to sum the coefficients of the low and high pass filters calculated previously. "
   ]
  },
  {
   "cell_type": "code",
   "execution_count": 54,
   "metadata": {},
   "outputs": [
    {
     "data": {
      "text/plain": [
       "[1.3877787807814457e-17,\n",
       " -0.05954125616041256,\n",
       " 0.7391774866797878,\n",
       " 0.16113882947731828,\n",
       " 0.35964669487944795,\n",
       " -0.18006326323142124]"
      ]
     },
     "execution_count": 54,
     "metadata": {},
     "output_type": "execute_result"
    }
   ],
   "source": [
    "stop_band = low_pass_filter + high_pass\n",
    "list(stop_band)"
   ]
  }
 ],
 "metadata": {
  "kernelspec": {
   "display_name": "Python 3",
   "language": "python",
   "name": "python3"
  },
  "language_info": {
   "codemirror_mode": {
    "name": "ipython",
    "version": 3
   },
   "file_extension": ".py",
   "mimetype": "text/x-python",
   "name": "python",
   "nbconvert_exporter": "python",
   "pygments_lexer": "ipython3",
   "version": "3.8.5"
  }
 },
 "nbformat": 4,
 "nbformat_minor": 4
}
