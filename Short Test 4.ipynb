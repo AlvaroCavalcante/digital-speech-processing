{
 "cells": [
  {
   "cell_type": "markdown",
   "metadata": {},
   "source": [
    "# Digital Speech Processing\n",
    "### Prof. Dr. Rodrigo Guido\n",
    "\n",
    "### Student: Álvaro Leandro Cavalcante Carneiro"
   ]
  },
  {
   "cell_type": "markdown",
   "metadata": {},
   "source": [
    "# Short Test Challenge\n",
    "Creating a high-pass filter."
   ]
  },
  {
   "cell_type": "markdown",
   "metadata": {},
   "source": [
    "## Importing the necessary libraries"
   ]
  },
  {
   "cell_type": "code",
   "execution_count": 2,
   "metadata": {},
   "outputs": [],
   "source": [
    "import math\n",
    "import numpy as np"
   ]
  },
  {
   "cell_type": "markdown",
   "metadata": {},
   "source": [
    "## Defining important parameters\n",
    "First of all, it's important to define the necessary parameters, like the filter order, samples per second and cutoff frequency."
   ]
  },
  {
   "cell_type": "code",
   "execution_count": 28,
   "metadata": {},
   "outputs": [],
   "source": [
    "filter_order = 5\n",
    "samples_second = 24000\n",
    "cutoff_frequency = 1500"
   ]
  },
  {
   "cell_type": "markdown",
   "metadata": {},
   "source": [
    "## Creating function\n",
    "The function above does the necessary calculus to the low-pass filter. As saw in class, we first get the low-pass filter and then we reverse it, to get the high pass. Another important fact is to take care of the cutoff frequency, which must be also reversed to the high pass."
   ]
  },
  {
   "cell_type": "code",
   "execution_count": 43,
   "metadata": {},
   "outputs": [],
   "source": [
    "def get_filter(filter_order, samples_second, cutoff_frequency, high_pass=False):\n",
    "    frequency = samples_second / 2\n",
    "    divisor = frequency / cutoff_frequency\n",
    "    dividend = 1 if not high_pass else divisor - 1\n",
    "\n",
    "    final_filter = []\n",
    "\n",
    "    for n in range(filter_order + 1):\n",
    "        value = math.sin( ((dividend * math.pi) / divisor) * (n - (filter_order/2)) ) / (math.pi * (n - (filter_order/2)))\n",
    "        final_filter.append(value)\n",
    "    \n",
    "    return final_filter"
   ]
  },
  {
   "cell_type": "markdown",
   "metadata": {},
   "source": [
    "After that, we just need to reverse the low pass filter, taking care to change the signal alternately. I also check if the filter order is even and if the dot product is orthogonal, to meet the criteria of a high pass filter."
   ]
  },
  {
   "cell_type": "code",
   "execution_count": 41,
   "metadata": {},
   "outputs": [],
   "source": [
    "def get_high_pass_filter(filter_value):\n",
    "    assert len(filter_value) % 2 == 0, \"The filter len must be even\"\n",
    "    \n",
    "    middle = len(filter_value) / 2\n",
    "    \n",
    "    reversed_filter = np.array(filter_value)[::-1]\n",
    "    inverse = []\n",
    "    for i, value in enumerate(reversed_filter):\n",
    "        if i % 2 != 0:\n",
    "            inverse.append(-value)\n",
    "        else:\n",
    "            inverse.append(value)\n",
    "    \n",
    "    assert np.isclose(np.dot(filter_value, inverse), 0), \"Not orthogonal filters\"\n",
    "    \n",
    "    return inverse        "
   ]
  },
  {
   "cell_type": "code",
   "execution_count": 44,
   "metadata": {},
   "outputs": [
    {
     "data": {
      "text/plain": [
       "[0.07073739905582861,\n",
       " -0.17644333177153582,\n",
       " 0.624387301951779,\n",
       " 0.624387301951779,\n",
       " -0.17644333177153582,\n",
       " 0.07073739905582861]"
      ]
     },
     "execution_count": 44,
     "metadata": {},
     "output_type": "execute_result"
    }
   ],
   "source": [
    "low_pass_filter = get_filter(filter_order, samples_second, cutoff_frequency, True)\n",
    "low_pass_filter"
   ]
  },
  {
   "cell_type": "code",
   "execution_count": 45,
   "metadata": {},
   "outputs": [
    {
     "data": {
      "text/plain": [
       "[0.07073739905582861,\n",
       " 0.17644333177153582,\n",
       " 0.624387301951779,\n",
       " -0.624387301951779,\n",
       " -0.17644333177153582,\n",
       " -0.07073739905582861]"
      ]
     },
     "execution_count": 45,
     "metadata": {},
     "output_type": "execute_result"
    }
   ],
   "source": [
    "high_pass = get_high_pass_filter(low_pass_filter)\n",
    "high_pass"
   ]
  },
  {
   "cell_type": "markdown",
   "metadata": {},
   "source": [
    "As saw, the filter is similiar to the low_pass, but time-domain reversed."
   ]
  }
 ],
 "metadata": {
  "kernelspec": {
   "display_name": "Python 3",
   "language": "python",
   "name": "python3"
  },
  "language_info": {
   "codemirror_mode": {
    "name": "ipython",
    "version": 3
   },
   "file_extension": ".py",
   "mimetype": "text/x-python",
   "name": "python",
   "nbconvert_exporter": "python",
   "pygments_lexer": "ipython3",
   "version": "3.8.5"
  }
 },
 "nbformat": 4,
 "nbformat_minor": 4
}
