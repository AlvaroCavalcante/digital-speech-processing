{
 "cells": [
  {
   "cell_type": "markdown",
   "metadata": {},
   "source": [
    "# Digital Speech Processing\n",
    "### Prof. Dr. Rodrigo Guido\n",
    "\n",
    "### Student: Álvaro Leandro Cavalcante Carneiro"
   ]
  },
  {
   "cell_type": "markdown",
   "metadata": {},
   "source": [
    "# Short Test Challenge\n",
    "Creating and normalizing a filter based on new formula."
   ]
  },
  {
   "cell_type": "markdown",
   "metadata": {},
   "source": [
    "## Importing the necessary libraries"
   ]
  },
  {
   "cell_type": "code",
   "execution_count": 32,
   "metadata": {},
   "outputs": [],
   "source": [
    "import math\n",
    "import numpy as np\n",
    "import random"
   ]
  },
  {
   "cell_type": "markdown",
   "metadata": {},
   "source": [
    "## Defining filter parameters\n",
    "First of all, it's important to define the necessary parameters, like the upper and lower bound of accepted Gibbs effect and the frequency."
   ]
  },
  {
   "cell_type": "code",
   "execution_count": 2,
   "metadata": {},
   "outputs": [],
   "source": [
    "upper_bound_freq = 0.45\n",
    "lower_bound_freq = 0.15\n",
    "\n",
    "passband_upper = 1.01\n",
    "passband_lower = 0.99\n",
    "\n",
    "stopband_upper = 0.06\n",
    "stopband_lower = 0"
   ]
  },
  {
   "cell_type": "markdown",
   "metadata": {},
   "source": [
    "The cutoff frequency here is just the different between the upper bound and lower bound. "
   ]
  },
  {
   "cell_type": "code",
   "execution_count": 3,
   "metadata": {},
   "outputs": [],
   "source": [
    "cutoff = upper_bound_freq - lower_bound_freq"
   ]
  },
  {
   "cell_type": "markdown",
   "metadata": {},
   "source": [
    "After that, it's important to get the lower value of Gibbs effect to get the dB and choose the correct window."
   ]
  },
  {
   "cell_type": "code",
   "execution_count": 4,
   "metadata": {},
   "outputs": [],
   "source": [
    "passband_range = passband_upper - passband_lower\n",
    "stopband_range = stopband_upper - stopband_lower\n",
    "\n",
    "min_frequency = min([passband_range, stopband_range])"
   ]
  },
  {
   "cell_type": "markdown",
   "metadata": {},
   "source": [
    "Now, it's possible to calculate the dB value and choose the window that we'll use in our equation."
   ]
  },
  {
   "cell_type": "code",
   "execution_count": 5,
   "metadata": {},
   "outputs": [
    {
     "name": "stdout",
     "output_type": "stream",
     "text": [
      "Window to be used hanning\n"
     ]
    }
   ],
   "source": [
    "dB_to_be_filtered = 20* math.log(min_frequency, 10)\n",
    "\n",
    "windows = {'rectangular': -21, 'barlett': -25, 'hanning': -44, 'hamming': -53, 'blackman': -74}\n",
    "used_window = ''\n",
    "\n",
    "for window in windows:\n",
    "    if windows[window] < dB_to_be_filtered:\n",
    "        used_window = window\n",
    "        print('Window to be used:', window)\n",
    "        break"
   ]
  },
  {
   "cell_type": "markdown",
   "metadata": {},
   "source": [
    "We can also get the order, using the function defined by hanning window."
   ]
  },
  {
   "cell_type": "code",
   "execution_count": 9,
   "metadata": {},
   "outputs": [
    {
     "name": "stdout",
     "output_type": "stream",
     "text": [
      "Filter order is: 21 Which will generate: 22 coefficients.\n"
     ]
    }
   ],
   "source": [
    "order = int(np.ceil(3.1 / ((cutoff * math.pi) / (2 * math.pi))))\n",
    "print('Filter order is:', order, 'Which will generate:', order+1, 'coefficients.')"
   ]
  },
  {
   "cell_type": "markdown",
   "metadata": {},
   "source": [
    "## Function to get low pass filter\n",
    "The function bellow will calculate the low pass, using de SINC function considering all the parameters we found until now."
   ]
  },
  {
   "cell_type": "code",
   "execution_count": 12,
   "metadata": {},
   "outputs": [],
   "source": [
    "def get_low_pass_filter(order, cutoff):\n",
    "    final_filter = []\n",
    "    for n in range(order + 1):\n",
    "        first_part = math.sin( (cutoff * math.pi)  * (n - (order/2)) )\n",
    "        second_part = (math.pi * (n - (order/2)))\n",
    "        if second_part == 0:\n",
    "            print('Zero division')\n",
    "            value = 1\n",
    "        else:\n",
    "            value = first_part / second_part\n",
    "        final_filter.append(value)\n",
    "    \n",
    "    return final_filter"
   ]
  },
  {
   "cell_type": "code",
   "execution_count": 15,
   "metadata": {},
   "outputs": [
    {
     "name": "stdout",
     "output_type": "stream",
     "text": [
      "1.0412224393462681\n"
     ]
    },
    {
     "data": {
      "text/plain": [
       "[-0.013762825171487384,\n",
       " 0.015211543610591289,\n",
       " 0.03698717215057592,\n",
       " 0.030010543871903557,\n",
       " -0.007660713348027363,\n",
       " -0.05156657914607532,\n",
       " -0.06302581895631432,\n",
       " -0.014227039074908047,\n",
       " 0.09003163161571058,\n",
       " 0.20959397551993025,\n",
       " 0.2890193286012348,\n",
       " 0.2890193286012348,\n",
       " 0.20959397551993025,\n",
       " 0.09003163161571058,\n",
       " -0.014227039074908047,\n",
       " -0.06302581895631432,\n",
       " -0.05156657914607532,\n",
       " -0.007660713348027363,\n",
       " 0.030010543871903557,\n",
       " 0.03698717215057592,\n",
       " 0.015211543610591289,\n",
       " -0.013762825171487384]"
      ]
     },
     "execution_count": 15,
     "metadata": {},
     "output_type": "execute_result"
    }
   ],
   "source": [
    "freq_filter = get_low_pass_filter(order, cutoff)\n",
    "print(sum(freq_filter))\n",
    "freq_filter"
   ]
  },
  {
   "cell_type": "markdown",
   "metadata": {},
   "source": [
    "## Hanning window\n",
    "Above we can see the 22 filter coefficients. Also, the sum of them is 1.04, so it's necessary to normalize the values, but let's apply the hanning window before."
   ]
  },
  {
   "cell_type": "code",
   "execution_count": 22,
   "metadata": {},
   "outputs": [],
   "source": [
    "def get_window_value(order):\n",
    "    window = []\n",
    "    for n in range(order + 1):\n",
    "        value = 0.5 - (0.5* math.cos(2*math.pi*(n/ order)))\n",
    "        window.append(value)\n",
    "    return window"
   ]
  },
  {
   "cell_type": "code",
   "execution_count": 25,
   "metadata": {},
   "outputs": [
    {
     "name": "stdout",
     "output_type": "stream",
     "text": [
      "22\n"
     ]
    },
    {
     "data": {
      "text/plain": [
       "[0.0,\n",
       " 0.022213597106929606,\n",
       " 0.08688061284200255,\n",
       " 0.1882550990706332,\n",
       " 0.31732948781680237,\n",
       " 0.4626349532067878,\n",
       " 0.6112604669781572,\n",
       " 0.7499999999999999,\n",
       " 0.8665259359149131,\n",
       " 0.9504844339512095,\n",
       " 0.9944154131125642,\n",
       " 0.9944154131125642,\n",
       " 0.9504844339512095,\n",
       " 0.8665259359149131,\n",
       " 0.7500000000000002,\n",
       " 0.6112604669781573,\n",
       " 0.46263495320678827,\n",
       " 0.3173294878168027,\n",
       " 0.1882550990706333,\n",
       " 0.08688061284200255,\n",
       " 0.022213597106929717,\n",
       " 0.0]"
      ]
     },
     "execution_count": 25,
     "metadata": {},
     "output_type": "execute_result"
    }
   ],
   "source": [
    "han_window = get_window_value(order)\n",
    "print(len(han_window))\n",
    "han_window"
   ]
  },
  {
   "cell_type": "markdown",
   "metadata": {},
   "source": [
    "As saw, the window has the same len as the filter. Now, it's possibel to apply the multiplication."
   ]
  },
  {
   "cell_type": "code",
   "execution_count": 27,
   "metadata": {},
   "outputs": [
    {
     "data": {
      "text/plain": [
       "array([-0.        ,  0.0003379 ,  0.00321347,  0.00564964, -0.00243097,\n",
       "       -0.0238565 , -0.03852519, -0.01067028,  0.07801474,  0.19921581,\n",
       "        0.28740528,  0.28740528,  0.19921581,  0.07801474, -0.01067028,\n",
       "       -0.03852519, -0.0238565 , -0.00243097,  0.00564964,  0.00321347,\n",
       "        0.0003379 , -0.        ])"
      ]
     },
     "execution_count": 27,
     "metadata": {},
     "output_type": "execute_result"
    }
   ],
   "source": [
    "window_filter = np.array(han_window) * np.array(freq_filter)\n",
    "window_filter"
   ]
  },
  {
   "cell_type": "markdown",
   "metadata": {},
   "source": [
    "## Normalizing results\n",
    "The function above normalize the filter results"
   ]
  },
  {
   "cell_type": "code",
   "execution_count": 29,
   "metadata": {},
   "outputs": [],
   "source": [
    "def normalized_coef(coef):\n",
    "    print('Sum befone normalization', sum(coef))\n",
    "    normalized = [x/sum(coef) for x in coef]\n",
    "    print('Sum after normalization', sum(normalized))\n",
    "    return normalized"
   ]
  },
  {
   "cell_type": "code",
   "execution_count": 30,
   "metadata": {},
   "outputs": [
    {
     "name": "stdout",
     "output_type": "stream",
     "text": [
      "Sum befone normalization 0.9967077925322666\n",
      "Sum after normalization 1.0000000000000002\n"
     ]
    },
    {
     "data": {
      "text/plain": [
       "[-0.0,\n",
       " 0.0003390192227570301,\n",
       " 0.0032240825323241917,\n",
       " 0.00566829912648234,\n",
       " -0.002438999936846753,\n",
       " -0.02393530190996913,\n",
       " -0.03865244338969116,\n",
       " -0.01070552411261057,\n",
       " 0.0782724329359798,\n",
       " 0.1998738373214789,\n",
       " 0.2883545982100954,\n",
       " 0.2883545982100954,\n",
       " 0.1998738373214789,\n",
       " 0.0782724329359798,\n",
       " -0.010705524112610575,\n",
       " -0.03865244338969117,\n",
       " -0.023935301909969155,\n",
       " -0.0024389999368467554,\n",
       " 0.005668299126482344,\n",
       " 0.0032240825323241917,\n",
       " 0.00033901922275703176,\n",
       " -0.0]"
      ]
     },
     "execution_count": 30,
     "metadata": {},
     "output_type": "execute_result"
    }
   ],
   "source": [
    "filter_normalized = normalized_coef(window_filter)\n",
    "filter_normalized"
   ]
  },
  {
   "cell_type": "markdown",
   "metadata": {},
   "source": [
    "## Difference equation\n",
    "Considering a random input filter x, let's apply the difference equation with our filter coefficients."
   ]
  },
  {
   "cell_type": "code",
   "execution_count": 54,
   "metadata": {},
   "outputs": [
    {
     "name": "stdout",
     "output_type": "stream",
     "text": [
      "[0.564343636035832, 0.5103994774565198, 0.5519183935166486, 0.3013805927850619, 0.951069029196288, 0.48687773004162116, 0.9366909564640711, 0.8022964505006122, 0.017972734095814014, 0.5824443182587522, 0.7598062101149874, 0.7741839720691577, 0.24594260580252414, 0.43386536336805803, 0.2501976330244109, 0.6270033751469661, 0.9975115465488796, 0.477515779420414, 0.1414634081944378, 0.8887747126394219, 0.6485570377684501, 0.38477326234400466, 0.250306815824234, 0.9893369807909844, 0.7273523419984347, 0.47035288736709124, 0.6525839708541044, 0.7513971597558528, 0.8996022649093708, 0.6578190325138621, 0.7537777190818044, 0.21918281541877127, 0.8722930189937131, 0.2496763577479577, 0.5949970463219577, 0.03946578234517395, 0.6171631384844224, 0.07767565241162921, 0.7990650054349588, 0.2008664887733036, 0.12003930674114627, 0.16087530517809134, 0.5107377654345802, 0.7565515095762108, 0.5156432931482229, 0.13952822891347394, 0.9369298555583007, 0.7134888842907944, 0.12319245545365043, 0.7839717306509663, 0.47822992754049287, 0.9643691926942172, 0.8304103091806487, 0.4923562061204202, 0.7011649198147245, 0.47851504721469396, 0.5250283812701596, 0.6590120027532285, 0.2733681952585606, 0.26421516624722663, 0.9873337350493578, 0.8061238656738948, 0.13482016454009482, 0.16874830557695486, 0.36242159272958874, 0.08446672837178326, 0.18188522161513898, 0.676377042438157, 0.09391235266032727, 0.46262533061001154, 0.5713205078530089, 0.7049991384928904, 0.5447929384225062, 0.8404124192471298, 0.1254190787271139, 0.3434104939600031, 0.9306778027144527, 0.9272161187253096, 0.23257337476508189, 0.7425698410571464, 0.10651390717940745, 0.7832296364538832, 0.5764409163019576, 0.8450285046064038, 0.15505764322041693, 0.49220722743246637, 0.4989812440357202, 0.7517049525457515, 0.21867040222856116, 0.5188369660916531, 0.38109756554808594, 0.17275988502755657, 0.08081251592860694, 0.8176384082338476, 0.6304141437780266, 0.09119193409455073, 0.795350910309162, 0.8047032852731477, 0.8596233983552681, 0.07185599495922412, 0.15533827585125615, 0.5083436032746873, 0.7660955981696729, 0.7586644720016796, 0.2534848513096244, 0.30961120233137684, 0.017233718661889386, 0.9327757024088666, 0.6562311199466307, 0.7895556080165212]\n"
     ]
    }
   ],
   "source": [
    "x = []\n",
    "for _ in range(110):\n",
    "    x.append(random.random())\n",
    "\n",
    "print(x)"
   ]
  },
  {
   "cell_type": "markdown",
   "metadata": {},
   "source": [
    "We can check above the filter to be filtered, using just 100 samples in this case. After that, we just apply a piecewise multiplication in the x input signal by the filter coefficients."
   ]
  },
  {
   "cell_type": "code",
   "execution_count": 55,
   "metadata": {},
   "outputs": [],
   "source": [
    "y = []\n",
    "\n",
    "for n in range(0, len(x), order+1):\n",
    "    input_sample = x[n: n + order+1][::-1]\n",
    "    y[n: n + order] = np.multiply(filter_normalized, input_sample)"
   ]
  },
  {
   "cell_type": "code",
   "execution_count": 61,
   "metadata": {},
   "outputs": [
    {
     "data": {
      "text/plain": [
       "[-0.0,\n",
       " 0.00021987330285786174,\n",
       " 0.002865483026192213,\n",
       " 0.0008018569130977466,\n",
       " -0.0011646609558497178,\n",
       " -0.02387574002532766,\n",
       " -0.0242352124630134,\n",
       " -0.002678496793260921,\n",
       " 0.03395969755747083,\n",
       " 0.04915749238259432,\n",
       " 0.2232395082066977,\n",
       " 0.21909361443524253,\n",
       " 0.11641538091646952,\n",
       " 0.0014067696241908,\n",
       " -0.00858900399629618,\n",
       " -0.036205394168363186,\n",
       " -0.011653565461786662,\n",
       " -0.0023196573021466516,\n",
       " 0.0017083153508222974,\n",
       " 0.0017794304518054564,\n",
       " 0.0001730352341429045,\n",
       " -0.0,\n",
       " -0.0,\n",
       " 0.00017314992027029372,\n",
       " 0.000518675261307008,\n",
       " 0.0006804186975443851,\n",
       " -0.0004899133534327165,\n",
       " -0.019125862150776864,\n",
       " -0.003002353757597826,\n",
       " -0.0066070548604594,\n",
       " 0.0030890828018786034,\n",
       " 0.11892434284331542,\n",
       " 0.07199532582097239,\n",
       " 0.25152970301340327,\n",
       " 0.043808910392675225,\n",
       " 0.05900001596546635,\n",
       " -0.00704229751431131,\n",
       " -0.03477182561764741,\n",
       " -0.01798491787304966,\n",
       " -0.0015916522637003654,\n",
       " 0.0026661008606013313,\n",
       " 0.002345043980682245,\n",
       " 0.000335404254272548,\n",
       " -0.0,\n",
       " -0.0,\n",
       " 0.00012286788667755007,\n",
       " 0.0005440584643699652,\n",
       " 0.0007642010208948249,\n",
       " -0.0019661360574692896,\n",
       " -0.02363213103430385,\n",
       " -0.010212561756068767,\n",
       " -0.002926549805961355,\n",
       " 0.05158247278950781,\n",
       " 0.10493943726715128,\n",
       " 0.1379820141770779,\n",
       " 0.20218412873218863,\n",
       " 0.0984091242463334,\n",
       " 0.06499823523468858,\n",
       " -0.010324077645846735,\n",
       " -0.01848475520151501,\n",
       " -0.018764600062011895,\n",
       " -0.0003004663910714501,\n",
       " 0.0040442684195803715,\n",
       " 0.0030207391813185454,\n",
       " 4.730275171891114e-05,\n",
       " -0.0,\n",
       " -0.0,\n",
       " 0.0001691642335233258,\n",
       " 0.0015869167242487355,\n",
       " 0.0008789131036206996,\n",
       " -0.0020610244693687247,\n",
       " -0.0137972873649466,\n",
       " -0.03027373918416211,\n",
       " -0.0011402872016375105,\n",
       " 0.05812274808442667,\n",
       " 0.04648533287310332,\n",
       " 0.2673670313689608,\n",
       " 0.26836522386478046,\n",
       " 0.06863877320425038,\n",
       " 0.009816856428560393,\n",
       " -0.008997055418787536,\n",
       " -0.021057578211479428,\n",
       " -0.016874367226095487,\n",
       " -0.001393450682572745,\n",
       " 0.002622298757385334,\n",
       " 0.0003027811757816305,\n",
       " 0.00022930481921808388,\n",
       " -0.0,\n",
       " -0.0,\n",
       " 0.00022247496423328213,\n",
       " 0.0030073458487128554,\n",
       " 9.768587243723001e-05,\n",
       " -0.0007551417029332754,\n",
       " -0.006067236445699494,\n",
       " -0.02932423555581486,\n",
       " -0.008201454898770251,\n",
       " 0.03978929059575228,\n",
       " 0.031048057277292984,\n",
       " 0.020720006555453713,\n",
       " 0.24787635964473012,\n",
       " 0.16083913353274476,\n",
       " 0.06225405078774437,\n",
       " -0.0009762574493248072,\n",
       " -0.024367047004440805,\n",
       " -0.01957042215426375,\n",
       " -0.00019710172124629975,\n",
       " 0.000979254705392889,\n",
       " 0.0012286900041948575,\n",
       " 0.00017589570498200867,\n",
       " -0.0]"
      ]
     },
     "execution_count": 61,
     "metadata": {},
     "output_type": "execute_result"
    }
   ],
   "source": [
    "y"
   ]
  }
 ],
 "metadata": {
  "kernelspec": {
   "display_name": "Python 3",
   "language": "python",
   "name": "python3"
  },
  "language_info": {
   "codemirror_mode": {
    "name": "ipython",
    "version": 3
   },
   "file_extension": ".py",
   "mimetype": "text/x-python",
   "name": "python",
   "nbconvert_exporter": "python",
   "pygments_lexer": "ipython3",
   "version": "3.8.5"
  }
 },
 "nbformat": 4,
 "nbformat_minor": 4
}
