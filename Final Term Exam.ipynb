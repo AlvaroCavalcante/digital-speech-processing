{
 "cells": [
  {
   "cell_type": "markdown",
   "id": "be8ff920",
   "metadata": {},
   "source": [
    "# Digital Speech Processing\n",
    "### Prof. Dr. Rodrigo Guido\n",
    "\n",
    "### Student: Álvaro Leandro Cavalcante Carneiro"
   ]
  },
  {
   "cell_type": "markdown",
   "id": "cb886a44",
   "metadata": {},
   "source": [
    "# Final Term Exam\n",
    "The final term exam contains 10 different exercises that'll be documented in this notebook. Some of them will be solved using Python programming language, and others will be using the paper, but all the content will be present here."
   ]
  },
  {
   "cell_type": "markdown",
   "id": "ee31e030",
   "metadata": {},
   "source": [
    "## Importing all the necessary libraries"
   ]
  },
  {
   "cell_type": "code",
   "execution_count": 115,
   "id": "0166f598",
   "metadata": {},
   "outputs": [],
   "source": [
    "import math\n",
    "import numpy as np\n",
    "from scipy.spatial import distance\n",
    "import random"
   ]
  },
  {
   "cell_type": "markdown",
   "id": "3fe57d28",
   "metadata": {},
   "source": [
    "# Exercise number 1\n",
    "Creating a band-stop filter with normalized coefficients."
   ]
  },
  {
   "cell_type": "markdown",
   "id": "d4e31aac",
   "metadata": {},
   "source": [
    "The idea of this exercise is very similar to the short test 6. First of all, we need to obtain a low-pass filter and a high-pass filter, taking care to get normalized values. After that, we just sum up our obtained low-pass filter with the high-pass one, to get the band-stop filter. We can verify that the obtained filter is symmetric, giving a linear phase response. Besides that, we can verify that the band-stop filter has a gain of 0 dB. In the end, we use the difference equation method to filter a random signal with the band-stop coefficients. "
   ]
  },
  {
   "cell_type": "code",
   "execution_count": 33,
   "id": "d9ba257b",
   "metadata": {},
   "outputs": [],
   "source": [
    "filter_order = 8\n",
    "samples_second = 22050\n",
    "cutoff_freq_a = 2000\n",
    "cutoff_freq_b = 4000"
   ]
  },
  {
   "cell_type": "code",
   "execution_count": 34,
   "id": "11342a7c",
   "metadata": {},
   "outputs": [],
   "source": [
    "def get_low_pass_filter(filter_order, samples_second, cutoff_frequency, high_pass=False):\n",
    "    frequency = samples_second / 2\n",
    "    divisor = frequency / 1000\n",
    "    dividend = cutoff_frequency / 1000 \n",
    "    \n",
    "    if high_pass:\n",
    "        dividend = divisor - dividend\n",
    "\n",
    "    final_filter = []\n",
    "\n",
    "    for n in range(filter_order + 1):\n",
    "        first_part = math.sin( ((dividend * math.pi) / divisor) * (n - (filter_order/2)) )\n",
    "        second_part = (math.pi * (n - (filter_order/2)))\n",
    "        if second_part == 0:\n",
    "            value = 1\n",
    "        else:\n",
    "            value = first_part / second_part\n",
    "        final_filter.append(value)\n",
    "    \n",
    "    return np.array(final_filter)"
   ]
  },
  {
   "cell_type": "code",
   "execution_count": 35,
   "id": "6ba5e3c1",
   "metadata": {},
   "outputs": [],
   "source": [
    "def normalized_coef(coef):\n",
    "    print('Sum befone normalization', sum(coef))\n",
    "    normalized = [x/sum(coef) for x in coef]\n",
    "    print('Sum after normalization', sum(normalized))\n",
    "    return normalized"
   ]
  },
  {
   "cell_type": "code",
   "execution_count": 36,
   "id": "13ce8c3d",
   "metadata": {},
   "outputs": [
    {
     "name": "stdout",
     "output_type": "stream",
     "text": [
      "Sum befone normalization 1.9636720577105782\n",
      "Sum after normalization 1.0\n"
     ]
    },
    {
     "data": {
      "text/plain": [
       "[0.030763701937615313,\n",
       " 0.05351260046295566,\n",
       " 0.07363789309032391,\n",
       " 0.08746080333505772,\n",
       " 0.5092500023480948,\n",
       " 0.08746080333505772,\n",
       " 0.07363789309032391,\n",
       " 0.05351260046295566,\n",
       " 0.030763701937615313]"
      ]
     },
     "execution_count": 36,
     "metadata": {},
     "output_type": "execute_result"
    }
   ],
   "source": [
    "low_pass_filter = normalized_coef(\n",
    "    get_low_pass_filter(filter_order, samples_second, cutoff_freq_a, False))\n",
    "low_pass_filter"
   ]
  },
  {
   "cell_type": "code",
   "execution_count": 37,
   "id": "9e7af65e",
   "metadata": {},
   "outputs": [
    {
     "name": "stdout",
     "output_type": "stream",
     "text": [
      "Sum befone normalization 1.4358538558926381\n",
      "Sum after normalization 0.9999999999999998\n"
     ]
    },
    {
     "data": {
      "text/plain": [
       "[0.05477292274475763,\n",
       " -0.020267164783418494,\n",
       " -0.08414480573871011,\n",
       " 0.2014141933132226,\n",
       " 0.6964497089282965,\n",
       " 0.2014141933132226,\n",
       " -0.08414480573871011,\n",
       " -0.020267164783418494,\n",
       " 0.05477292274475763]"
      ]
     },
     "execution_count": 37,
     "metadata": {},
     "output_type": "execute_result"
    }
   ],
   "source": [
    "low_pass_b = normalized_coef(\n",
    "    get_low_pass_filter(filter_order, samples_second, cutoff_freq_b, True))\n",
    "low_pass_b"
   ]
  },
  {
   "cell_type": "code",
   "execution_count": 38,
   "id": "243c1cd1",
   "metadata": {},
   "outputs": [],
   "source": [
    "def get_high_pass_filter(filter_value):      \n",
    "    reversed_filter = np.array(filter_value)[::-1]\n",
    "    inverse = []\n",
    "    for i, value in enumerate(reversed_filter):\n",
    "        if i % 2 != 0:\n",
    "            inverse.append(-value)\n",
    "        else:\n",
    "            inverse.append(value)\n",
    "       \n",
    "    return np.array(inverse)"
   ]
  },
  {
   "cell_type": "code",
   "execution_count": 39,
   "id": "d60c7b60",
   "metadata": {},
   "outputs": [
    {
     "data": {
      "text/plain": [
       "array([ 0.05477292,  0.02026716, -0.08414481, -0.20141419,  0.69644971,\n",
       "       -0.20141419, -0.08414481,  0.02026716,  0.05477292])"
      ]
     },
     "execution_count": 39,
     "metadata": {},
     "output_type": "execute_result"
    }
   ],
   "source": [
    "high_pass = get_high_pass_filter(low_pass_b)\n",
    "high_pass"
   ]
  },
  {
   "cell_type": "code",
   "execution_count": 50,
   "id": "b26d2a33",
   "metadata": {},
   "outputs": [
    {
     "name": "stdout",
     "output_type": "stream",
     "text": [
      "Sum befone normalization 1.2754118858807832\n",
      "Sum after normalization 1.0\n"
     ]
    },
    {
     "data": {
      "text/plain": [
       "[0.06706588328781524,\n",
       " 0.057847794946197156,\n",
       " -0.008238054517682544,\n",
       " -0.08934634469042142,\n",
       " 0.9453414419481831,\n",
       " -0.08934634469042142,\n",
       " -0.008238054517682544,\n",
       " 0.057847794946197156,\n",
       " 0.06706588328781524]"
      ]
     },
     "execution_count": 50,
     "metadata": {},
     "output_type": "execute_result"
    }
   ],
   "source": [
    "band_stop = normalized_coef(np.array(low_pass_filter) + np.array(high_pass))\n",
    "list(band_stop)"
   ]
  },
  {
   "cell_type": "code",
   "execution_count": 51,
   "id": "c2e444a9",
   "metadata": {},
   "outputs": [
    {
     "name": "stdout",
     "output_type": "stream",
     "text": [
      "0.0 dB gain\n"
     ]
    }
   ],
   "source": [
    "print(20 * np.log(sum(band_stop)), 'dB gain')"
   ]
  },
  {
   "cell_type": "markdown",
   "id": "d5af3103",
   "metadata": {},
   "source": [
    "### Difference equation\n",
    "Considering a random input filter x, let's apply the difference equation with our filter coefficients."
   ]
  },
  {
   "cell_type": "code",
   "execution_count": 101,
   "id": "76ace422",
   "metadata": {},
   "outputs": [],
   "source": [
    "def get_random_filter(max_len):\n",
    "    x = []\n",
    "    for _ in range(max_len):\n",
    "        x.append(random.random())\n",
    "\n",
    "    return x"
   ]
  },
  {
   "cell_type": "code",
   "execution_count": 110,
   "id": "0003de2a",
   "metadata": {},
   "outputs": [
    {
     "name": "stdout",
     "output_type": "stream",
     "text": [
      "[0.336875531114773, 0.788330490289538, 0.10686149796621658, 0.9209008312441466, 0.052816485448852535, 0.6001518326235036, 0.045153933877495, 0.531487963025663, 0.9712112276949454]\n"
     ]
    }
   ],
   "source": [
    "x = get_random_filter(9)\n",
    "print(x[0:30])"
   ]
  },
  {
   "cell_type": "markdown",
   "id": "cbb80fdf",
   "metadata": {},
   "source": [
    "In the code bellow we apply the difference equation in the random signal. I'm showing just the 30 first resulting values."
   ]
  },
  {
   "cell_type": "code",
   "execution_count": 111,
   "id": "444ccc4b",
   "metadata": {},
   "outputs": [],
   "source": [
    "def apply_diff_equation(x, freq_filter):\n",
    "    y = []\n",
    "    order = len(freq_filter)\n",
    "\n",
    "    for n in range(0, len(x), order):\n",
    "        input_sample = x[n: n + order][::-1]\n",
    "        y[n: n + order] = np.multiply(freq_filter, input_sample)\n",
    "        \n",
    "    return y"
   ]
  },
  {
   "cell_type": "code",
   "execution_count": 113,
   "id": "66ac04cb",
   "metadata": {},
   "outputs": [
    {
     "data": {
      "text/plain": [
       "[0.06513513884440496,\n",
       " 0.03074540670148057,\n",
       " -0.00037198056897063656,\n",
       " -0.05362137250416765,\n",
       " 0.04992961251285349,\n",
       " -0.08227912309403512,\n",
       " -0.0008803308460869145,\n",
       " 0.045603180552104265,\n",
       " 0.022592855052264136]"
      ]
     },
     "execution_count": 113,
     "metadata": {},
     "output_type": "execute_result"
    }
   ],
   "source": [
    "y = apply_diff_equation(x, band_stop)\n",
    "y"
   ]
  },
  {
   "cell_type": "markdown",
   "id": "ea369345",
   "metadata": {},
   "source": [
    "# Exercise number 2\n",
    "Applying a window to the filter."
   ]
  },
  {
   "cell_type": "code",
   "execution_count": 88,
   "id": "3242f64c",
   "metadata": {},
   "outputs": [],
   "source": [
    "upper_bound_freq = 0.4\n",
    "lower_bound_freq = 0.1\n",
    "\n",
    "passband_upper = 1.02\n",
    "passband_lower = 0.98\n",
    "\n",
    "stopband_upper = 0.06\n",
    "stopband_lower = 0\n",
    "\n",
    "cutoff = upper_bound_freq - lower_bound_freq"
   ]
  },
  {
   "cell_type": "code",
   "execution_count": 89,
   "id": "c3049e36",
   "metadata": {},
   "outputs": [],
   "source": [
    "passband_range = passband_upper - passband_lower\n",
    "stopband_range = stopband_upper - stopband_lower\n",
    "\n",
    "min_frequency = min([passband_range, stopband_range])"
   ]
  },
  {
   "cell_type": "code",
   "execution_count": 90,
   "id": "28d51bf5",
   "metadata": {},
   "outputs": [
    {
     "name": "stdout",
     "output_type": "stream",
     "text": [
      "Window to be used: hanning\n"
     ]
    }
   ],
   "source": [
    "dB_to_be_filtered = 20* math.log(min_frequency, 10)\n",
    "\n",
    "windows = {'rectangular': -21, 'barlett': -25, 'hanning': -44, 'hamming': -53, 'blackman': -74}\n",
    "used_window = ''\n",
    "\n",
    "for window in windows:\n",
    "    if windows[window] < dB_to_be_filtered:\n",
    "        used_window = window\n",
    "        print('Window to be used:', window)\n",
    "        break"
   ]
  },
  {
   "cell_type": "code",
   "execution_count": 91,
   "id": "280388f6",
   "metadata": {},
   "outputs": [
    {
     "name": "stdout",
     "output_type": "stream",
     "text": [
      "Filter order is: 21 Which will generate: 22 coefficients.\n"
     ]
    }
   ],
   "source": [
    "order = int(np.ceil(3.1 / ((cutoff * math.pi) / (2 * math.pi))))\n",
    "print('Filter order is:', order, 'Which will generate:', order+1, 'coefficients.')"
   ]
  },
  {
   "cell_type": "code",
   "execution_count": 92,
   "id": "aa6279eb",
   "metadata": {},
   "outputs": [],
   "source": [
    "def get_low_pass_filter(order, cutoff):\n",
    "    final_filter = []\n",
    "    for n in range(order + 1):\n",
    "        first_part = math.sin( (cutoff * math.pi)  * (n - (order/2)) )\n",
    "        second_part = (math.pi * (n - (order/2)))\n",
    "        if second_part == 0:\n",
    "            print('Zero division')\n",
    "            value = 1\n",
    "        else:\n",
    "            value = first_part / second_part\n",
    "        final_filter.append(value)\n",
    "    \n",
    "    return final_filter"
   ]
  },
  {
   "cell_type": "code",
   "execution_count": 93,
   "id": "2f4349df",
   "metadata": {},
   "outputs": [
    {
     "name": "stdout",
     "output_type": "stream",
     "text": [
      "1.0412224393462681\n"
     ]
    },
    {
     "data": {
      "text/plain": [
       "[-0.013762825171487384,\n",
       " 0.015211543610591289,\n",
       " 0.03698717215057592,\n",
       " 0.030010543871903557,\n",
       " -0.007660713348027363,\n",
       " -0.05156657914607532,\n",
       " -0.06302581895631432,\n",
       " -0.014227039074908047,\n",
       " 0.09003163161571058,\n",
       " 0.20959397551993025,\n",
       " 0.2890193286012348,\n",
       " 0.2890193286012348,\n",
       " 0.20959397551993025,\n",
       " 0.09003163161571058,\n",
       " -0.014227039074908047,\n",
       " -0.06302581895631432,\n",
       " -0.05156657914607532,\n",
       " -0.007660713348027363,\n",
       " 0.030010543871903557,\n",
       " 0.03698717215057592,\n",
       " 0.015211543610591289,\n",
       " -0.013762825171487384]"
      ]
     },
     "execution_count": 93,
     "metadata": {},
     "output_type": "execute_result"
    }
   ],
   "source": [
    "freq_filter = get_low_pass_filter(order, cutoff)\n",
    "print(sum(freq_filter))\n",
    "freq_filter"
   ]
  },
  {
   "cell_type": "code",
   "execution_count": 94,
   "id": "a4c0fe39",
   "metadata": {},
   "outputs": [],
   "source": [
    "def get_window_value(order):\n",
    "    window = []\n",
    "    for n in range(order + 1):\n",
    "        value = 0.5 - (0.5* math.cos(2*math.pi*(n/ order)))\n",
    "        window.append(value)\n",
    "    return window"
   ]
  },
  {
   "cell_type": "code",
   "execution_count": 95,
   "id": "57ddf413",
   "metadata": {},
   "outputs": [
    {
     "name": "stdout",
     "output_type": "stream",
     "text": [
      "22\n"
     ]
    },
    {
     "data": {
      "text/plain": [
       "[0.0,\n",
       " 0.022213597106929606,\n",
       " 0.08688061284200255,\n",
       " 0.1882550990706332,\n",
       " 0.31732948781680237,\n",
       " 0.4626349532067878,\n",
       " 0.6112604669781572,\n",
       " 0.7499999999999999,\n",
       " 0.8665259359149131,\n",
       " 0.9504844339512095,\n",
       " 0.9944154131125642,\n",
       " 0.9944154131125642,\n",
       " 0.9504844339512095,\n",
       " 0.8665259359149131,\n",
       " 0.7500000000000002,\n",
       " 0.6112604669781573,\n",
       " 0.46263495320678827,\n",
       " 0.3173294878168027,\n",
       " 0.1882550990706333,\n",
       " 0.08688061284200255,\n",
       " 0.022213597106929717,\n",
       " 0.0]"
      ]
     },
     "execution_count": 95,
     "metadata": {},
     "output_type": "execute_result"
    }
   ],
   "source": [
    "han_window = get_window_value(order)\n",
    "print(len(han_window))\n",
    "han_window"
   ]
  },
  {
   "cell_type": "code",
   "execution_count": 96,
   "id": "ce6f1dbc",
   "metadata": {},
   "outputs": [
    {
     "data": {
      "text/plain": [
       "array([-0.        ,  0.0003379 ,  0.00321347,  0.00564964, -0.00243097,\n",
       "       -0.0238565 , -0.03852519, -0.01067028,  0.07801474,  0.19921581,\n",
       "        0.28740528,  0.28740528,  0.19921581,  0.07801474, -0.01067028,\n",
       "       -0.03852519, -0.0238565 , -0.00243097,  0.00564964,  0.00321347,\n",
       "        0.0003379 , -0.        ])"
      ]
     },
     "execution_count": 96,
     "metadata": {},
     "output_type": "execute_result"
    }
   ],
   "source": [
    "window_filter = np.array(han_window) * np.array(freq_filter)\n",
    "window_filter"
   ]
  },
  {
   "cell_type": "code",
   "execution_count": 97,
   "id": "1a5792ab",
   "metadata": {},
   "outputs": [
    {
     "name": "stdout",
     "output_type": "stream",
     "text": [
      "Sum befone normalization 0.9967077925322666\n",
      "Sum after normalization 1.0000000000000002\n"
     ]
    },
    {
     "data": {
      "text/plain": [
       "[-0.0,\n",
       " 0.0003390192227570301,\n",
       " 0.0032240825323241917,\n",
       " 0.00566829912648234,\n",
       " -0.002438999936846753,\n",
       " -0.02393530190996913,\n",
       " -0.03865244338969116,\n",
       " -0.01070552411261057,\n",
       " 0.0782724329359798,\n",
       " 0.1998738373214789,\n",
       " 0.2883545982100954,\n",
       " 0.2883545982100954,\n",
       " 0.1998738373214789,\n",
       " 0.0782724329359798,\n",
       " -0.010705524112610575,\n",
       " -0.03865244338969117,\n",
       " -0.023935301909969155,\n",
       " -0.0024389999368467554,\n",
       " 0.005668299126482344,\n",
       " 0.0032240825323241917,\n",
       " 0.00033901922275703176,\n",
       " -0.0]"
      ]
     },
     "execution_count": 97,
     "metadata": {},
     "output_type": "execute_result"
    }
   ],
   "source": [
    "filter_normalized = normalized_coef(window_filter)\n",
    "filter_normalized"
   ]
  },
  {
   "cell_type": "code",
   "execution_count": 105,
   "id": "60256c5f",
   "metadata": {},
   "outputs": [
    {
     "name": "stdout",
     "output_type": "stream",
     "text": [
      "[0.43234330523796427, 0.5199255822612687, 0.04324021077327356, 0.2239541077115943, 0.9972540725574214, 0.9931029371772746, 0.5828811564428854, 0.5842405992181255, 0.6352666259200075, 0.8683377217945182, 0.4640258371702567, 0.05950684927532679, 0.23991152462091347, 0.37061792031858476, 0.7036962613014697, 0.5942667024379145, 0.6460506136612234, 0.41642702836107937, 0.11860724192734695, 0.4829591430603736, 0.9508635057824045, 0.9181074019303173]\n"
     ]
    }
   ],
   "source": [
    "x = get_random_filter(22)\n",
    "print(x[0:30])"
   ]
  },
  {
   "cell_type": "code",
   "execution_count": 106,
   "id": "1154c4c4",
   "metadata": {},
   "outputs": [
    {
     "data": {
      "text/plain": [
       "[-0.0,\n",
       " 0.0003223610066783756,\n",
       " 0.0015571001369672109,\n",
       " 0.0006723013258112603,\n",
       " -0.0010156654958739535,\n",
       " -0.01546341648710221,\n",
       " -0.022969860074359933,\n",
       " -0.0075334372933167915,\n",
       " 0.02900916631300873,\n",
       " 0.04795203704362844,\n",
       " 0.017159073613535563,\n",
       " 0.13380398383633252,\n",
       " 0.17355799254606114,\n",
       " 0.04972386437378995,\n",
       " -0.006254601822495694,\n",
       " -0.022529780902326352,\n",
       " -0.023770218629015197,\n",
       " -0.0024323026199877204,\n",
       " 0.0012694388731137626,\n",
       " 0.0001394100082481276,\n",
       " 0.00017626476678971251,\n",
       " -0.0]"
      ]
     },
     "execution_count": 106,
     "metadata": {},
     "output_type": "execute_result"
    }
   ],
   "source": [
    "y = apply_diff_equation(x, filter_normalized)\n",
    "y[0:30]"
   ]
  },
  {
   "cell_type": "markdown",
   "id": "1646f0c9",
   "metadata": {},
   "source": [
    "![diagram](assets/2_part1.jpeg)\n"
   ]
  },
  {
   "cell_type": "markdown",
   "id": "ad6a4c4e",
   "metadata": {},
   "source": [
    "# Exercise number 3\n",
    "What's a window and which is the function of it?"
   ]
  },
  {
   "cell_type": "markdown",
   "id": "c2735aba",
   "metadata": {},
   "source": [
    "An FIR signal is just the result of a subsample of the SINC function. As this function is infinite, the subsample must be done with a limited amount of coefficients and in a limited part of the function, enabling the computational representation. This part is what we call a window, which is the part of the SINC that we'll considered, all the other parts may be replaced by 0. The window that was chosen to sample the signal may cause the Gibbs effect, which's a fluctuation caused by the SINC truncation, disturbing the frequency response of the signal. A window that truncates the SINC function in a smoother manner may reduce the Gibbs effect and is desirable. For example, a rectangular window may produce a abrupt \"cutoff\" in the function, generating a higher Gibbs effect, while a triangular one will be smoother in the truncation."
   ]
  },
  {
   "cell_type": "markdown",
   "id": "aa62c57b",
   "metadata": {},
   "source": [
    "# Exercise number 4\n",
    "Finding poles and zeros. This exercise was done \"by hand\" as showed by the images bellow"
   ]
  },
  {
   "cell_type": "markdown",
   "id": "8a5f05f9",
   "metadata": {},
   "source": [
    "![part one](assets/exer_4_1.jpeg)"
   ]
  },
  {
   "cell_type": "markdown",
   "id": "aa43ce1f",
   "metadata": {},
   "source": [
    "![part two](assets/4_2.jpeg)"
   ]
  },
  {
   "cell_type": "markdown",
   "id": "d663953b",
   "metadata": {},
   "source": [
    "# Exercise number 5\n",
    "Finding the length of a subsampled signal. The first step is to define the signal, samples per second and ms that covers the subsample."
   ]
  },
  {
   "cell_type": "code",
   "execution_count": 127,
   "id": "670c2096",
   "metadata": {},
   "outputs": [],
   "source": [
    "signal = [-1, 2, -3, 3, 2, 1, -1, -1, -4, 5, 5, 4]\n",
    "ss = 16000\n",
    "ms = 0.125\n",
    "overlap = 0.5"
   ]
  },
  {
   "cell_type": "markdown",
   "id": "27ee32da",
   "metadata": {},
   "source": [
    "We now get the len of the window that will be used to recover the signal values."
   ]
  },
  {
   "cell_type": "code",
   "execution_count": 134,
   "id": "dc5e3f18",
   "metadata": {},
   "outputs": [],
   "source": [
    "def get_window_size(ss, ms):\n",
    "    window_size = (ss * ms) / 1000\n",
    "    return int(window_size)"
   ]
  },
  {
   "cell_type": "code",
   "execution_count": 168,
   "id": "77fce8e8",
   "metadata": {},
   "outputs": [
    {
     "name": "stdout",
     "output_type": "stream",
     "text": [
      "The rectangular window has a size of:  2\n"
     ]
    }
   ],
   "source": [
    "w_size = get_window_size(ss, ms)\n",
    "print('The rectangular window has a size of: ', w_size)"
   ]
  },
  {
   "cell_type": "code",
   "execution_count": 150,
   "id": "d4b9a9cb",
   "metadata": {},
   "outputs": [],
   "source": [
    "window_step = int(w_size * overlap)"
   ]
  },
  {
   "cell_type": "code",
   "execution_count": 170,
   "id": "1b8acdc2",
   "metadata": {},
   "outputs": [
    {
     "name": "stdout",
     "output_type": "stream",
     "text": [
      "The f[n] signal has a len of  11\n",
      "[-1, 2, 2, -3, -3, 3, 3, 2, 2, 1, 1, -1, -1, -1, -1, -4, -4, 5, 5, 5, 5, 4, 4]\n"
     ]
    }
   ],
   "source": [
    "final_signal = []\n",
    "for i in range(0, len(signal), window_step):\n",
    "    cutoff = signal[i:i+window_step+1]\n",
    "    final_signal.extend(cutoff)\n",
    "    \n",
    "print('The f[n] signal has a len of ', i)\n",
    "print(final_signal)"
   ]
  },
  {
   "cell_type": "markdown",
   "id": "2afa466e",
   "metadata": {},
   "source": [
    "In the end, we create a function to get the entropy based on the probability of each value of the signal to appear."
   ]
  },
  {
   "cell_type": "code",
   "execution_count": 171,
   "id": "023f52c4",
   "metadata": {},
   "outputs": [],
   "source": [
    "def get_entropy(signal, base):\n",
    "    total_len = len(signal)\n",
    "    values, counts = np.unique(signal, return_counts=True)\n",
    "    probability = list(map(lambda x: x/total_len, counts))\n",
    "\n",
    "    if(base == 2):\n",
    "        entropy = np.array(\n",
    "            list(map(lambda value: value * np.log(value), probability)))\n",
    "    elif (base == 10):\n",
    "        entropy = np.array(\n",
    "            list(map(lambda value: -1 * (value * np.log10(value)), probability)))\n",
    "\n",
    "    return np.sum(entropy)"
   ]
  },
  {
   "cell_type": "code",
   "execution_count": 174,
   "id": "6b82af9c",
   "metadata": {},
   "outputs": [
    {
     "name": "stdout",
     "output_type": "stream",
     "text": [
      "The entropy of the signal is: 0.869483057367871\n"
     ]
    }
   ],
   "source": [
    "print('The entropy of the signal is:', get_entropy(final_signal, 10))"
   ]
  },
  {
   "cell_type": "markdown",
   "id": "f5e420a1",
   "metadata": {},
   "source": [
    "# Exercise number 6\n",
    "Bark scale concept."
   ]
  },
  {
   "cell_type": "markdown",
   "id": "f06d083d",
   "metadata": {},
   "source": [
    "The cochlea is an organ present in the human auditory system that responds to stimuli generated by the received signals, entering into vibration and producing electrical signals that are transmitted to the brain. That said, the Bark scale is the result of an experimental mapping containing 25 frequency bands that stimulate specific regions of the cochlea, producing energy that will be interpreted by our brain.\n",
    "\n",
    "Thus, digital signal filtering and handcrafted feature extraction were bioinspired to carry out a similar process. This process occurs through the creation of 25 filters with the same frequency ranges as the Bark scale. Once this is done, the signal of interest is filtered 25 times and has the energy extracted, generating a feature vector with, theoretically, the energy produced by each band of the Bark scale. In the same way that energy is interpreted by the brain, the vector is used in a classifier in order to find some pattern of interest."
   ]
  },
  {
   "cell_type": "markdown",
   "id": "36a816af",
   "metadata": {},
   "source": [
    "# Exercise number 7\n",
    "Resolving a order 4 LPC. The first step is to define the order and the signal"
   ]
  },
  {
   "cell_type": "code",
   "execution_count": 69,
   "id": "66356d6b",
   "metadata": {},
   "outputs": [],
   "source": [
    "order = 4\n",
    "signal = np.array([2, 5, 2, 3, 5, 8, 4, 8, 10, 6])\n",
    "\n",
    "x_matrix = np.array([])\n",
    "y = np.array([])"
   ]
  },
  {
   "cell_type": "markdown",
   "id": "f54c777f",
   "metadata": {},
   "source": [
    "After that, we need to get the matrix of values and Y results for the equation"
   ]
  },
  {
   "cell_type": "code",
   "execution_count": 70,
   "id": "d78b38d4",
   "metadata": {},
   "outputs": [
    {
     "name": "stdout",
     "output_type": "stream",
     "text": [
      "Matrix of values \n",
      " [[ 2.  5.  2.  3.]\n",
      " [ 5.  2.  3.  5.]\n",
      " [ 2.  3.  5.  8.]\n",
      " [ 3.  5.  8.  4.]\n",
      " [ 5.  8.  4.  8.]\n",
      " [ 8.  4.  8. 10.]]\n",
      "Y results \n",
      " [ 5.  8.  4.  8. 10.  6.]\n"
     ]
    }
   ],
   "source": [
    "for s in range(0, len(signal) - order):\n",
    "    x_matrix = np.append(x_matrix, signal[s: s+order])\n",
    "    y = np.append(y, signal[order+s])\n",
    "    \n",
    "x_matrix = x_matrix.reshape(len(signal)-order, order)\n",
    "\n",
    "print('Matrix of values \\n', x_matrix)\n",
    "print('Y results \\n', y)"
   ]
  },
  {
   "cell_type": "markdown",
   "id": "7c389d06",
   "metadata": {},
   "source": [
    "In the end, we calculate the dot product and use a numpy function to get the coefficients based on linear algebra."
   ]
  },
  {
   "cell_type": "code",
   "execution_count": 72,
   "id": "3e46a4b4",
   "metadata": {},
   "outputs": [
    {
     "name": "stdout",
     "output_type": "stream",
     "text": [
      "X result \n",
      " [[131. 113. 137. 179.]\n",
      " [113. 143. 135. 173.]\n",
      " [137. 135. 182. 205.]\n",
      " [179. 173. 205. 278.]]\n",
      "Y result \n",
      " [180. 197. 206. 259.]\n"
     ]
    }
   ],
   "source": [
    "x_result = np.dot(x_matrix.T, x_matrix)\n",
    "y_result = np.dot(x_matrix.T, y)\n",
    "\n",
    "print('X result \\n', x_result)\n",
    "print('Y result \\n', y_result)"
   ]
  },
  {
   "cell_type": "code",
   "execution_count": 73,
   "id": "78ec0753",
   "metadata": {},
   "outputs": [
    {
     "data": {
      "text/plain": [
       "array([ 0.69745441,  0.9515517 ,  0.14442733, -0.21608053])"
      ]
     },
     "execution_count": 73,
     "metadata": {},
     "output_type": "execute_result"
    }
   ],
   "source": [
    "np.linalg.solve(x_result, y_result)"
   ]
  },
  {
   "cell_type": "markdown",
   "id": "9203f216",
   "metadata": {},
   "source": [
    "# Exercise number 8\n",
    "The difference between learned and handcrafted features"
   ]
  },
  {
   "cell_type": "markdown",
   "id": "3e43f0f5",
   "metadata": {},
   "source": [
    "We can interpret a feature as an input signal that's passed through a classifier. When working with unstructured data, like images and speech signals, there's a huge amount of data, but most of this data is not really useful for the model, because it's not discriminative. Based on this, a common practice in this area is to use some method (handcrafted or learned) to extract some features of this amount of data that'll be representative and will aggregate predictive power.\n",
    "\n",
    "The handcrafted features receive this name because it needs the direct intervention of the engineer that's designing the solution, while the learned-based features are automatically created by a complex model based on a training loop, requiring less knowledge about the signal. In the handcrafted version, the engineer needs to know what's the specific representation of the signal that's useful to extract for the problem that needs to be resolved and also which formula must be used to get the feature. For example, if someone wants to create a system that recognizes voiced signals, the engineer should know that energy and zero-crossing rate are relevant pieces of information to classify the signal between voiced and unvoiced. Moreover, these calculations need to be done to extract the desired features (energy and zero-crossing) and pass them to a classifier. \n",
    "\n",
    "The main advantage of the handcrafted version is that all the physics properties of the signal used in the classifier are known, and the final result is simpler to be interpreted and explained. Furthermore, the handcrafted version is usually cheaper computationally because only the required calculations are done to extracted the desired properties. The main disadvantage of this process is that it needs specialized knowledge and usually takes longer to create the solution.\n",
    "\n",
    "The learned features, on the other hand, are based on complex models like neural networks that, based on a training loop, can automatically learn the best representations of the signal. The advantage of this approach is that it's faster, easier, and reaches good results, sometimes better than those reached with handcrafted features. The disadvantages are the computational cost and the resulting black box, because the physics properties explored by the model are not known and, until this moment, there is no way to discover how to model reach that solution."
   ]
  },
  {
   "cell_type": "markdown",
   "id": "f12581f5",
   "metadata": {},
   "source": [
    "# Exercise number 9\n",
    "Hidden Markov Model modeling."
   ]
  },
  {
   "cell_type": "markdown",
   "id": "cd7396c5",
   "metadata": {},
   "source": [
    "![part one](assets/9_p1.jpeg)\n",
    "![part two](assets/9_p2.jpeg)"
   ]
  },
  {
   "cell_type": "markdown",
   "id": "b3908468",
   "metadata": {},
   "source": [
    "# Exercise number 10\n",
    "Estimate the most similar signals using euclidian distance. The first step is to define the template signal and the signals that will be compared."
   ]
  },
  {
   "cell_type": "code",
   "execution_count": 116,
   "id": "2aef288c",
   "metadata": {},
   "outputs": [],
   "source": [
    "c_a = [0.2, 1, 0.7]\n",
    "c_b = [0.3, 0.9, 0.8]\n",
    "t = [0.2, 0.9, 0.9]"
   ]
  },
  {
   "cell_type": "markdown",
   "id": "0ef867ec",
   "metadata": {},
   "source": [
    "After that, we use the method above to get the Euclidian distance."
   ]
  },
  {
   "cell_type": "code",
   "execution_count": 117,
   "id": "fa3a9a87",
   "metadata": {},
   "outputs": [],
   "source": [
    "def get_euclidian_distance(template, signals_to_compare):\n",
    "    dist = []\n",
    "    for i in range(len(signals_to_compare)):\n",
    "        subtracted = np.array(template) - np.array(signals_to_compare[i])\n",
    "        dist.append(math.sqrt(sum(subtracted**2)))\n",
    "        \n",
    "    return dist"
   ]
  },
  {
   "cell_type": "code",
   "execution_count": 121,
   "id": "c86c4505",
   "metadata": {},
   "outputs": [
    {
     "data": {
      "text/plain": [
       "[0.22360679774997902, 0.14142135623730948]"
      ]
     },
     "execution_count": 121,
     "metadata": {},
     "output_type": "execute_result"
    }
   ],
   "source": [
    "signals_to_compare = [c_a, c_b]\n",
    "dist = get_euclidian_distance(t, signals_to_compare)\n",
    "dist"
   ]
  },
  {
   "cell_type": "code",
   "execution_count": 122,
   "id": "6a6a1b82",
   "metadata": {},
   "outputs": [],
   "source": [
    "most_similar = dist.index(min(dist))"
   ]
  },
  {
   "cell_type": "code",
   "execution_count": 124,
   "id": "d5834cb5",
   "metadata": {},
   "outputs": [
    {
     "name": "stdout",
     "output_type": "stream",
     "text": [
      "The signal that best matches with the template is:  [0.3, 0.9, 0.8]\n"
     ]
    }
   ],
   "source": [
    "print('The signal that best matches with the template is: ', signals_to_compare[most_similar])"
   ]
  },
  {
   "cell_type": "markdown",
   "id": "4d6c0192",
   "metadata": {},
   "source": [
    "If the signals had different dimensions we may use another technique to find the best match, like Dynamic Time Warping or KNN."
   ]
  }
 ],
 "metadata": {
  "kernelspec": {
   "display_name": "Python 3",
   "language": "python",
   "name": "python3"
  },
  "language_info": {
   "codemirror_mode": {
    "name": "ipython",
    "version": 3
   },
   "file_extension": ".py",
   "mimetype": "text/x-python",
   "name": "python",
   "nbconvert_exporter": "python",
   "pygments_lexer": "ipython3",
   "version": "3.8.8"
  }
 },
 "nbformat": 4,
 "nbformat_minor": 5
}
