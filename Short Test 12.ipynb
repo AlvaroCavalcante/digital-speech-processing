{
 "cells": [
  {
   "cell_type": "markdown",
   "metadata": {},
   "source": [
    "# Digital Speech Processing\n",
    "### Prof. Dr. Rodrigo Guido\n",
    "\n",
    "### Student: Álvaro Leandro Cavalcante Carneiro"
   ]
  },
  {
   "cell_type": "markdown",
   "metadata": {},
   "source": [
    "# Short Test 12\n",
    "Resolve a order 3 LPC"
   ]
  },
  {
   "cell_type": "markdown",
   "metadata": {},
   "source": [
    "## Importing the necessary libraries"
   ]
  },
  {
   "cell_type": "code",
   "execution_count": 1,
   "metadata": {},
   "outputs": [],
   "source": [
    "import numpy as np "
   ]
  },
  {
   "cell_type": "markdown",
   "metadata": {},
   "source": [
    "## Defining parameters\n",
    "The first step is to define the main parameters that will define the system, which are the order of the LPC and the initial signal. I also create a variable to store the x matrix and y array that will be used in the equation."
   ]
  },
  {
   "cell_type": "code",
   "execution_count": 18,
   "metadata": {},
   "outputs": [],
   "source": [
    "order = 3\n",
    "signal = np.array([2,3,5,8,8,10,6])\n",
    "\n",
    "x_matrix = np.array([])\n",
    "y = np.array([])"
   ]
  },
  {
   "cell_type": "markdown",
   "metadata": {},
   "source": [
    "## Getting equation\n",
    "After that, I got the values that will be used in the equation. To get them, it's necessary to create a loop that will insert s values in the X array, where s is the LPC order. The y array is inserted based on s + 1. In the end, the x array is reshape to get a matrix shape."
   ]
  },
  {
   "cell_type": "code",
   "execution_count": 19,
   "metadata": {},
   "outputs": [],
   "source": [
    "for s in range(0, len(signal) - order):\n",
    "    x_matrix = np.append(x_matrix, signal[s: s+order])\n",
    "    y = np.append(y, signal[order+s])\n",
    "    \n",
    "x_matrix = x_matrix.reshape(len(signal)-order, order)"
   ]
  },
  {
   "cell_type": "code",
   "execution_count": 20,
   "metadata": {},
   "outputs": [
    {
     "name": "stdout",
     "output_type": "stream",
     "text": [
      "Matrix of values \n",
      " [[ 2.  3.  5.]\n",
      " [ 3.  5.  8.]\n",
      " [ 5.  8.  8.]\n",
      " [ 8.  8. 10.]]\n",
      "Y results \n",
      " [ 8.  8. 10.  6.]\n"
     ]
    }
   ],
   "source": [
    "print('Matrix of values \\n', x_matrix)\n",
    "print('Y results \\n', y)"
   ]
  },
  {
   "cell_type": "markdown",
   "metadata": {},
   "source": [
    "## Applying the dot product\n",
    "To turn this equation in a form that it's able to be solved, we multiply the matrix X and Y by the transpose of X."
   ]
  },
  {
   "cell_type": "code",
   "execution_count": 21,
   "metadata": {},
   "outputs": [
    {
     "name": "stdout",
     "output_type": "stream",
     "text": [
      "X result \n",
      " [[102. 125. 154.]\n",
      " [125. 162. 199.]\n",
      " [154. 199. 253.]]\n",
      "Y result \n",
      " [138. 192. 244.]\n"
     ]
    }
   ],
   "source": [
    "x_result = np.dot(x_matrix.T, x_matrix)\n",
    "y_result = np.dot(x_matrix.T, y)\n",
    "\n",
    "print('X result \\n', x_result)\n",
    "print('Y result \\n', y_result)"
   ]
  },
  {
   "cell_type": "markdown",
   "metadata": {},
   "source": [
    "## Getting the coefficients\n",
    "To get the coefficients of the results, we can apply the linear algebra formula based on a numpy implementation. With this, we get the three coefficients (a1, a2 and a3) that were expected."
   ]
  },
  {
   "cell_type": "code",
   "execution_count": 22,
   "metadata": {},
   "outputs": [
    {
     "data": {
      "text/plain": [
       "array([-1.91428198,  1.36756827,  1.05396577])"
      ]
     },
     "execution_count": 22,
     "metadata": {},
     "output_type": "execute_result"
    }
   ],
   "source": [
    "np.linalg.solve(x_result, y_result)"
   ]
  }
 ],
 "metadata": {
  "kernelspec": {
   "display_name": "Python 3",
   "language": "python",
   "name": "python3"
  },
  "language_info": {
   "codemirror_mode": {
    "name": "ipython",
    "version": 3
   },
   "file_extension": ".py",
   "mimetype": "text/x-python",
   "name": "python",
   "nbconvert_exporter": "python",
   "pygments_lexer": "ipython3",
   "version": "3.8.10"
  }
 },
 "nbformat": 4,
 "nbformat_minor": 4
}
