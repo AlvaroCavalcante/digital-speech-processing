{
 "cells": [
  {
   "cell_type": "markdown",
   "metadata": {},
   "source": [
    "# Digital Speech Processing\n",
    "### Prof. Dr. Rodrigo Guido\n",
    "\n",
    "### Student: Álvaro Leandro Cavalcante Carneiro"
   ]
  },
  {
   "cell_type": "markdown",
   "metadata": {},
   "source": [
    "# Short Test Challenge\n",
    "Creating a low-pass filter"
   ]
  },
  {
   "cell_type": "markdown",
   "metadata": {},
   "source": [
    "## Importing the necessary libraries"
   ]
  },
  {
   "cell_type": "code",
   "execution_count": 9,
   "metadata": {},
   "outputs": [],
   "source": [
    "import math\n",
    "import numpy as np"
   ]
  },
  {
   "cell_type": "markdown",
   "metadata": {},
   "source": [
    "## Defining important parameters\n",
    "First of all, it's important to define the necessary parameters, like the filter order, samples per second and cutoff frequency."
   ]
  },
  {
   "cell_type": "code",
   "execution_count": 4,
   "metadata": {},
   "outputs": [],
   "source": [
    "filter_order = 5\n",
    "samples_second = 12000\n",
    "cutoff_frequency = 1500"
   ]
  },
  {
   "cell_type": "markdown",
   "metadata": {},
   "source": [
    "## Creating function\n",
    "The function above does the necessary calculus to the low-pass filter, as saw in class."
   ]
  },
  {
   "cell_type": "code",
   "execution_count": 7,
   "metadata": {},
   "outputs": [],
   "source": [
    "def get_filter(filter_order, samples_second, cutoff_frequency):\n",
    "    frequency = samples_second / 2\n",
    "    divisor = frequency / cutoff_frequency\n",
    "\n",
    "    final_filter = []\n",
    "\n",
    "    for n in range(filter_order + 1):\n",
    "        value = math.sin( (math.pi / divisor) * (n - (filter_order/2)) ) / (math.pi * (n - (filter_order/2)))\n",
    "        final_filter.append(value)\n",
    "    \n",
    "    return final_filter"
   ]
  },
  {
   "cell_type": "code",
   "execution_count": 8,
   "metadata": {},
   "outputs": [
    {
     "data": {
      "text/plain": [
       "[0.11763199553648057,\n",
       " 0.1960533258941343,\n",
       " 0.24362383960110817,\n",
       " 0.24362383960110817,\n",
       " 0.1960533258941343,\n",
       " 0.11763199553648057]"
      ]
     },
     "execution_count": 8,
     "metadata": {},
     "output_type": "execute_result"
    }
   ],
   "source": [
    "low_pass_filter = get_filter(filter_order, samples_second, cutoff_frequency)\n",
    "low_pass_filter"
   ]
  },
  {
   "cell_type": "markdown",
   "metadata": {},
   "source": [
    "The resulting filter is symmetrical, as the theory supports, which gives us the idea that the calculated result is correct!"
   ]
  },
  {
   "cell_type": "markdown",
   "metadata": {},
   "source": [
    "## Applying convolution\n",
    "After the creation of our filter, let's apply a convolution with a pre-defined signal to see the results."
   ]
  },
  {
   "cell_type": "code",
   "execution_count": 10,
   "metadata": {},
   "outputs": [
    {
     "data": {
      "text/plain": [
       "array([-0.117632  , -0.07842133, -0.2828345 , -0.15684266,  0.18769348,\n",
       "        0.47052798,  0.7000207 ,  0.64409034,  0.62737064,  0.23526399])"
      ]
     },
     "execution_count": 10,
     "metadata": {},
     "output_type": "execute_result"
    }
   ],
   "source": [
    "signal = [-1, 1, -2, 2, 2]\n",
    "convolved_signal = np.convolve(signal, low_pass_filter)\n",
    "convolved_signal"
   ]
  },
  {
   "cell_type": "markdown",
   "metadata": {},
   "source": [
    "Finally, let's use the same function created in last short test to check if the results are the same."
   ]
  },
  {
   "cell_type": "code",
   "execution_count": 11,
   "metadata": {},
   "outputs": [],
   "source": [
    "def get_convolved_value(signal, conv_filter):\n",
    "    final_signal = []\n",
    "    iters = len(signal) + len(conv_filter)-1\n",
    "\n",
    "    signal = np.append(signal, ([0] * (iters - len(signal))))\n",
    "    conv_filter = np.append(conv_filter, ([0] * (iters - len(conv_filter))))\n",
    "\n",
    "    for j in range(iters):\n",
    "        conv_sum = 0\n",
    "        original_j = j\n",
    "        while j >= 0:\n",
    "            conv_sum += signal[j] * conv_filter[original_j - j]\n",
    "            j -= 1\n",
    "\n",
    "        final_signal.append(conv_sum)\n",
    "    return final_signal"
   ]
  },
  {
   "cell_type": "code",
   "execution_count": 12,
   "metadata": {},
   "outputs": [
    {
     "data": {
      "text/plain": [
       "[-0.11763199553648057,\n",
       " -0.07842133035765372,\n",
       " -0.282834504779935,\n",
       " -0.15684266071530745,\n",
       " 0.18769347736598732,\n",
       " 0.47052798214592234,\n",
       " 0.7000207021526448,\n",
       " 0.6440903399175238,\n",
       " 0.6273706428612298,\n",
       " 0.23526399107296114]"
      ]
     },
     "execution_count": 12,
     "metadata": {},
     "output_type": "execute_result"
    }
   ],
   "source": [
    "convolved_signal = get_convolved_value(signal, low_pass_filter)\n",
    "convolved_signal"
   ]
  },
  {
   "cell_type": "markdown",
   "metadata": {},
   "source": [
    "Again, we got the same output signal in the hand-crafted convolution!"
   ]
  }
 ],
 "metadata": {
  "kernelspec": {
   "display_name": "Python 3",
   "language": "python",
   "name": "python3"
  },
  "language_info": {
   "codemirror_mode": {
    "name": "ipython",
    "version": 3
   },
   "file_extension": ".py",
   "mimetype": "text/x-python",
   "name": "python",
   "nbconvert_exporter": "python",
   "pygments_lexer": "ipython3",
   "version": "3.8.5"
  }
 },
 "nbformat": 4,
 "nbformat_minor": 4
}
