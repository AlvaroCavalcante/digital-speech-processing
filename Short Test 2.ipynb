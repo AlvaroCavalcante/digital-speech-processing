{
 "cells": [
  {
   "cell_type": "markdown",
   "metadata": {},
   "source": [
    "# Digital Speech Processing\n",
    "### Prof. Dr. Rodrigo Guido\n",
    "\n",
    "### Student: Álvaro Leandro Cavalcante Carneiro"
   ]
  },
  {
   "cell_type": "markdown",
   "metadata": {},
   "source": [
    "# Short Test Challenge\n",
    "Working with audio convolutions"
   ]
  },
  {
   "cell_type": "markdown",
   "metadata": {},
   "source": [
    "## Importing the necessary libraries"
   ]
  },
  {
   "cell_type": "code",
   "execution_count": 4,
   "metadata": {},
   "outputs": [],
   "source": [
    "import numpy as np"
   ]
  },
  {
   "cell_type": "markdown",
   "metadata": {},
   "source": [
    "## Defining signals\n",
    "The first step is to define two arbitrary signals, in this case at least. I chose the same values seen in class to prove that the method is producing the right value."
   ]
  },
  {
   "cell_type": "code",
   "execution_count": 25,
   "metadata": {},
   "outputs": [],
   "source": [
    "signal = [1, 2, 3]\n",
    "conv_filter = [4, 5]"
   ]
  },
  {
   "cell_type": "markdown",
   "metadata": {},
   "source": [
    "### Ready to use convolution function\n",
    "Numpy is an easy-to-use package with a lot of pre-defined functions used daily. One of them is convolution, which produces the same result that was calculated manually, as seen below."
   ]
  },
  {
   "cell_type": "code",
   "execution_count": 19,
   "metadata": {},
   "outputs": [
    {
     "name": "stdout",
     "output_type": "stream",
     "text": [
      "[ 4 13 22 15  0  0  0  0  0  0  0  0  0]\n"
     ]
    }
   ],
   "source": [
    "numpy_conv = np.convolve(signal, conv_filter)\n",
    "print(numpy_conv)"
   ]
  },
  {
   "cell_type": "markdown",
   "metadata": {},
   "source": [
    "## Creating my own convolution function\n",
    "For learning purposes, the idea is to create a simple function to produce the same result calculated manually and also by the numpy function, using my own script."
   ]
  },
  {
   "cell_type": "code",
   "execution_count": 21,
   "metadata": {},
   "outputs": [
    {
     "name": "stdout",
     "output_type": "stream",
     "text": [
      "[1 2 3 0]\n",
      "[4 5 0 0]\n"
     ]
    }
   ],
   "source": [
    "final_signal = []\n",
    "iters = len(signal) + len(conv_filter)-1\n",
    "\n",
    "signal = np.append(signal, ([0] * (iters - len(signal))))\n",
    "conv_filter = np.append(conv_filter, ([0] * (iters - len(conv_filter))))\n",
    "\n",
    "print(signal)\n",
    "print(conv_filter)"
   ]
  },
  {
   "cell_type": "markdown",
   "metadata": {},
   "source": [
    "In the code above, I first calculated the number of iterations that are needed to perform convolution in the array, in the *iters* variable. Then, it's necessary to fill the signal and the filter with zeros, to prevent out-of-index errors."
   ]
  },
  {
   "cell_type": "code",
   "execution_count": 22,
   "metadata": {},
   "outputs": [
    {
     "name": "stdout",
     "output_type": "stream",
     "text": [
      "[4, 13, 22, 15]\n"
     ]
    }
   ],
   "source": [
    "for j in range(iters):\n",
    "    conv_sum = 0\n",
    "    original_j = j\n",
    "    while j >= 0:\n",
    "        conv_sum += signal[j] * conv_filter[original_j - j]\n",
    "        j -= 1\n",
    "\n",
    "    final_signal.append(conv_sum)\n",
    "print(final_signal)"
   ]
  },
  {
   "cell_type": "markdown",
   "metadata": {},
   "source": [
    "In the end, we loop through the array, multiplying the respectivelly values in each iteration. As seen, the obtained result is the same!"
   ]
  },
  {
   "cell_type": "markdown",
   "metadata": {},
   "source": [
    "## Putting the code into one function\n",
    "It's important to define the process above into a single function, to call it easily."
   ]
  },
  {
   "cell_type": "code",
   "execution_count": 27,
   "metadata": {},
   "outputs": [],
   "source": [
    "def get_convolved_value(signal, conv_filter):\n",
    "    final_signal = []\n",
    "    iters = len(signal) + len(conv_filter)-1\n",
    "\n",
    "    signal = np.append(signal, ([0] * (iters - len(signal))))\n",
    "    conv_filter = np.append(conv_filter, ([0] * (iters - len(conv_filter))))\n",
    "\n",
    "    for j in range(iters):\n",
    "        conv_sum = 0\n",
    "        original_j = j\n",
    "        while j >= 0:\n",
    "            conv_sum += signal[j] * conv_filter[original_j - j]\n",
    "            j -= 1\n",
    "\n",
    "        final_signal.append(conv_sum)\n",
    "    return final_signal"
   ]
  },
  {
   "cell_type": "code",
   "execution_count": 29,
   "metadata": {},
   "outputs": [
    {
     "data": {
      "text/plain": [
       "[4, 13, 22, 15]"
      ]
     },
     "execution_count": 29,
     "metadata": {},
     "output_type": "execute_result"
    }
   ],
   "source": [
    "resulting_signal = get_convolved_value(signal, conv_filter)\n",
    "resulting_signal"
   ]
  },
  {
   "cell_type": "markdown",
   "metadata": {},
   "source": [
    "## Convolving the signal itself\n",
    "Let's convolve the signal with itself to see the results. First, using the numpy function and them using my created function!"
   ]
  },
  {
   "cell_type": "code",
   "execution_count": 31,
   "metadata": {},
   "outputs": [
    {
     "data": {
      "text/plain": [
       "array([ 16, 104, 345, 692, 874, 660, 225])"
      ]
     },
     "execution_count": 31,
     "metadata": {},
     "output_type": "execute_result"
    }
   ],
   "source": [
    "np.convolve(resulting_signal, resulting_signal)"
   ]
  },
  {
   "cell_type": "code",
   "execution_count": 32,
   "metadata": {},
   "outputs": [
    {
     "data": {
      "text/plain": [
       "[16, 104, 345, 692, 874, 660, 225]"
      ]
     },
     "execution_count": 32,
     "metadata": {},
     "output_type": "execute_result"
    }
   ],
   "source": [
    "get_convolved_value(resulting_signal, resulting_signal)"
   ]
  },
  {
   "cell_type": "markdown",
   "metadata": {},
   "source": [
    "The values are the same, which shows that my function is correct!"
   ]
  },
  {
   "cell_type": "markdown",
   "metadata": {},
   "source": [
    "## Finding the length of the result\n",
    "The legth of the resulting array was already calculated in my custom convolution function, defined by the number of iteractions, once every new iteraction generates a new value!\n",
    "\n",
    "- iters = len(signal) + len(conv_filter)-1\n",
    "\n",
    "As shown, I get this value by the sum of the length of the filter and the signal minus 1.\n",
    "\n",
    "In the first example, having 3 in the length of my signal and 2 in the filter, my resulting length is: (3+2) - 1 = 4."
   ]
  }
 ],
 "metadata": {
  "kernelspec": {
   "display_name": "Python 3",
   "language": "python",
   "name": "python3"
  },
  "language_info": {
   "codemirror_mode": {
    "name": "ipython",
    "version": 3
   },
   "file_extension": ".py",
   "mimetype": "text/x-python",
   "name": "python",
   "nbconvert_exporter": "python",
   "pygments_lexer": "ipython3",
   "version": "3.8.5"
  }
 },
 "nbformat": 4,
 "nbformat_minor": 4
}
