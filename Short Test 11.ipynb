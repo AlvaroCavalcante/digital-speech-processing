{
 "cells": [
  {
   "cell_type": "markdown",
   "metadata": {},
   "source": [
    "# Digital Speech Processing\n",
    "### Prof. Dr. Rodrigo Guido\n",
    "\n",
    "### Student: Álvaro Leandro Cavalcante Carneiro"
   ]
  },
  {
   "cell_type": "markdown",
   "metadata": {},
   "source": [
    "# Short Test 11\n",
    "Applying AMDF to find fundamental frequency"
   ]
  },
  {
   "cell_type": "markdown",
   "metadata": {},
   "source": [
    "## Importing the necessary libraries"
   ]
  },
  {
   "cell_type": "code",
   "execution_count": 6,
   "metadata": {},
   "outputs": [],
   "source": [
    "import numpy as np"
   ]
  },
  {
   "cell_type": "markdown",
   "metadata": {},
   "source": [
    "## Creating AMDF function\n",
    "\n",
    "The first necessary step is to create a function that is able to calculate the absolute difference between two signals, as saw in the class. This is done by the *get_amdf* method."
   ]
  },
  {
   "cell_type": "code",
   "execution_count": 3,
   "metadata": {},
   "outputs": [],
   "source": [
    "def get_amdf(signal_a, signal_b):\n",
    "    iters = len(signal_b)\n",
    "    diffs = []\n",
    "\n",
    "    for j in range(iters):\n",
    "        diffs.append(abs(signal_b[j] - signal_a))\n",
    "\n",
    "    for i in range(1, len(diffs)+1):\n",
    "        right_zeros = len(diffs) - i\n",
    "        left_zeros = i - 1\n",
    "        \n",
    "        if right_zeros > 0:\n",
    "            diffs[i-1] = np.insert(diffs[i-1], 0, [0]*right_zeros)\n",
    "\n",
    "        if left_zeros > 0:\n",
    "            diffs[i-1] = np.insert(diffs[i-1], len(diffs[i-1]), [0]*left_zeros)\n",
    "\n",
    "    return sum(diffs)"
   ]
  },
  {
   "cell_type": "markdown",
   "metadata": {},
   "source": [
    "The function above just calculates the difference for each coefficient in relation to the other ones of the sign, and then, adds zeros in the beginning and end of the result to skip some values to be summed.\n",
    "\n",
    "To validate the function, let's use the same signals that we saw in the class to check if we got the same results."
   ]
  },
  {
   "cell_type": "code",
   "execution_count": 7,
   "metadata": {},
   "outputs": [
    {
     "name": "stdout",
     "output_type": "stream",
     "text": [
      "[4 6 4 1]\n"
     ]
    }
   ],
   "source": [
    "signal_a = [1,2,3]\n",
    "signal_b = [4,5]\n",
    "print(get_amdf(np.array(signal_a), np.array(signal_b)))"
   ]
  },
  {
   "cell_type": "code",
   "execution_count": 8,
   "metadata": {},
   "outputs": [
    {
     "name": "stdout",
     "output_type": "stream",
     "text": [
      "[2 2 0 2 2]\n"
     ]
    }
   ],
   "source": [
    "signal_a = [1,2,3]\n",
    "signal_b = [1,2,3]\n",
    "print(get_amdf(np.array(signal_a), np.array(signal_b)))"
   ]
  },
  {
   "cell_type": "markdown",
   "metadata": {},
   "source": [
    "As saw, the values are the same. Let's use this function in the short test signal."
   ]
  },
  {
   "cell_type": "code",
   "execution_count": 11,
   "metadata": {
    "scrolled": true
   },
   "outputs": [
    {
     "name": "stdout",
     "output_type": "stream",
     "text": [
      "[ 0  4  6  0 10 12  0 16 18  0 18 16  0 12 10  0  6  4  0]\n"
     ]
    }
   ],
   "source": [
    "signal_a = [0, 1, 3, 0, 1, 3, 0, 1, 3, 0]\n",
    "signal_b = [0, 1, 3, 0, 1, 3, 0, 1, 3, 0]\n",
    "amdf_sig = get_amdf(np.array(signal_a), np.array(signal_b))\n",
    "print(amdf_sig)"
   ]
  },
  {
   "cell_type": "markdown",
   "metadata": {},
   "source": [
    "## Finding the period and F0\n",
    "\n",
    "After that, we need to find the period (T) of the signal and the F0. The function *get_period* brings the first value for us, which is clearly 2 by looking at the signal."
   ]
  },
  {
   "cell_type": "code",
   "execution_count": 26,
   "metadata": {},
   "outputs": [],
   "source": [
    "def get_period(signal):\n",
    "    minimum = min(signal)\n",
    "    \n",
    "    count = 0\n",
    "    initial_p = None\n",
    "    for s in signal:\n",
    "        if s == minimum and initial_p is None:\n",
    "            initial_p = count\n",
    "            continue\n",
    "        elif s == minimum and initial_p is not None:\n",
    "            return count - initial_p\n",
    "        count +=1"
   ]
  },
  {
   "cell_type": "code",
   "execution_count": 32,
   "metadata": {},
   "outputs": [
    {
     "name": "stdout",
     "output_type": "stream",
     "text": [
      "This signal has a period of 2 samples\n"
     ]
    }
   ],
   "source": [
    "period = get_period(amdf_sig)\n",
    "print('This signal has a period of', period, 'samples')"
   ]
  },
  {
   "cell_type": "markdown",
   "metadata": {},
   "source": [
    "However, this period is in a number of samples, and the correct form to capture this is in a time interval. Considering that this signal was sampled at 1.000 samples per second, we can infer the period of the signal based on this interval of 2 samples."
   ]
  },
  {
   "cell_type": "code",
   "execution_count": 36,
   "metadata": {},
   "outputs": [
    {
     "name": "stdout",
     "output_type": "stream",
     "text": [
      "The signal has a period of 0.002 seconds\n"
     ]
    }
   ],
   "source": [
    "samples_per_second = 1000\n",
    "period_in_seconds = period / samples_per_second\n",
    "print('The signal has a period of', period_in_seconds, 'seconds')"
   ]
  },
  {
   "cell_type": "markdown",
   "metadata": {},
   "source": [
    "Once we got the period in time, we can find the fundamental frequency (F0), given by the inverse of the period."
   ]
  },
  {
   "cell_type": "code",
   "execution_count": 37,
   "metadata": {},
   "outputs": [
    {
     "name": "stdout",
     "output_type": "stream",
     "text": [
      "The period of Pitch (F0) is 500.0\n"
     ]
    }
   ],
   "source": [
    "f0 = 1/period_in_seconds\n",
    "print('The period of Pitch (F0) is', f0)"
   ]
  }
 ],
 "metadata": {
  "kernelspec": {
   "display_name": "Python 3",
   "language": "python",
   "name": "python3"
  },
  "language_info": {
   "codemirror_mode": {
    "name": "ipython",
    "version": 3
   },
   "file_extension": ".py",
   "mimetype": "text/x-python",
   "name": "python",
   "nbconvert_exporter": "python",
   "pygments_lexer": "ipython3",
   "version": "3.8.5"
  }
 },
 "nbformat": 4,
 "nbformat_minor": 4
}
